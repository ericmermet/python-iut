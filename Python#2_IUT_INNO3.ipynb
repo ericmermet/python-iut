{
 "cells": [
  {
   "cell_type": "markdown",
   "metadata": {},
   "source": [
    "# Séance 2 : Introduction aux structures de données & API\n",
    "Ce notebook vous guidera à travers les bases du langage Python et quelques exemples pratiques sur la manipulation de fichiers. À la fin de cette séance, vous serez capable de :\n",
    "- Comprendre les structures de base en Python (variables, conditions, boucles).\n",
    "- Manipuler des fichiers texte et CSV pour extraire et traiter des données.\n"
   ]
  },
  {
   "cell_type": "markdown",
   "metadata": {},
   "source": [
    "## Structures de données : les listes\n",
    "\n",
    "Les listes en Python sont des collections ordonnées qui peuvent contenir des éléments de différents types (entiers, chaînes, etc.). Elles sont modifiables (mutables)."
   ]
  },
  {
   "cell_type": "code",
   "execution_count": null,
   "metadata": {},
   "outputs": [
    {
     "name": "stdout",
     "output_type": "stream",
     "text": [
      "pomme\n",
      "['pomme', 'fraise', 'orange']\n",
      "['pomme', 'fraise', 'orange', 'cerise']\n",
      "['pomme', 'orange', 'cerise']\n",
      "['cerise', 'orange', 'pomme']\n",
      "3\n"
     ]
    }
   ],
   "source": [
    "# Exemple : Créer une liste\n",
    "fruits = [\"pomme\", \"banane\", \"orange\"]\n",
    "\n",
    "# Accéder à un élément par son index\n",
    "print(fruits[0])  # Affiche \"pomme\"\n",
    "\n",
    "# Modifier un élément\n",
    "fruits[1] = \"fraise\"\n",
    "print(fruits)  # Affiche [\"pomme\", \"fraise\", \"orange\"]\n",
    "\n",
    "# Ajouter un élément à la fin de la liste\n",
    "fruits.append(\"cerise\")\n",
    "print(fruits)  # Affiche [\"pomme\", \"fraise\", \"orange\", \"cerise\"]\n",
    "\n",
    "# Supprimer un élément de la liste\n",
    "fruits.remove(\"fraise\")\n",
    "print(fruits)  # Affiche [\"pomme\", \"orange\", \"cerise\"]\n",
    "\n",
    "# Trier la liste\n",
    "fruits.sort()\n",
    "print(fruits)  # Affiche [\"cerise\", \"orange\", \"pomme\"]\n",
    "\n",
    "# Obtenir la longueur de la liste\n",
    "print(len(fruits))  # Affiche 3\n"
   ]
  },
  {
   "cell_type": "markdown",
   "metadata": {},
   "source": [
    "## Structures de données : les dictionnaires\n",
    "\n",
    "Les dictionnaires sont des collections de paires clé-valeur. Chaque clé doit être unique, et elle est associée à une valeur. Ils sont également mutables."
   ]
  },
  {
   "cell_type": "code",
   "execution_count": null,
   "metadata": {},
   "outputs": [
    {
     "name": "stdout",
     "output_type": "stream",
     "text": [
      "15\n",
      "{'Alice': 15, 'Bob': 12, 'Charlie': 17, 'David': 14}\n",
      "{'Alice': 15, 'Bob': 13, 'Charlie': 17, 'David': 14}\n",
      "{'Alice': 15, 'Bob': 13, 'David': 14}\n",
      "Alice a obtenu 15\n",
      "Bob a obtenu 13\n",
      "David a obtenu 14\n"
     ]
    }
   ],
   "source": [
    "# Exemple : Créer un dictionnaire\n",
    "notes_etudiants = {\n",
    "    \"Alice\": 15,\n",
    "    \"Bob\": 12,\n",
    "    \"Charlie\": 17\n",
    "}\n",
    "\n",
    "# Accéder à une valeur par sa clé\n",
    "print(notes_etudiants[\"Alice\"])  # Affiche 15\n",
    "\n",
    "# Ajouter une nouvelle paire clé-valeur\n",
    "notes_etudiants[\"David\"] = 14\n",
    "print(notes_etudiants)  # Affiche {'Alice': 15, 'Bob': 12, 'Charlie': 17, 'David': 14}\n",
    "\n",
    "# Modifier une valeur\n",
    "notes_etudiants[\"Bob\"] = 13\n",
    "print(notes_etudiants)  # Affiche {'Alice': 15, 'Bob': 13, 'Charlie': 17, 'David': 14}\n",
    "\n",
    "# Supprimer un élément\n",
    "del notes_etudiants[\"Charlie\"]\n",
    "print(notes_etudiants)  # Affiche {'Alice': 15, 'Bob': 13, 'David': 14}\n",
    "\n",
    "# Boucler sur les clés et les valeurs\n",
    "for etudiant, note in notes_etudiants.items():\n",
    "    print(f\"{etudiant} a obtenu {note}\")\n"
   ]
  },
  {
   "cell_type": "markdown",
   "metadata": {},
   "source": [
    "## Structures de données : les tuples\n",
    "\n",
    "Les tuples sont similaires aux listes, mais ils sont immutables : une fois créés, leurs éléments ne peuvent pas être modifiés."
   ]
  },
  {
   "cell_type": "code",
   "execution_count": 3,
   "metadata": {},
   "outputs": [
    {
     "name": "stdout",
     "output_type": "stream",
     "text": [
      "10\n",
      "20\n",
      "x = 10, y = 20\n"
     ]
    }
   ],
   "source": [
    "# Exemple : Créer un tuple\n",
    "coordonnees = (10, 20)\n",
    "\n",
    "# Accéder aux éléments d'un tuple\n",
    "print(coordonnees[0])  # Affiche 10\n",
    "print(coordonnees[1])  # Affiche 20\n",
    "\n",
    "# Les tuples sont immuables : essayer de modifier un élément provoque une erreur\n",
    "# coordonnees[0] = 30  # Provoquera une erreur\n",
    "\n",
    "# Utilité des tuples : affectation multiple\n",
    "x, y = coordonnees\n",
    "print(f\"x = {x}, y = {y}\")  # Affiche \"x = 10, y = 20\""
   ]
  },
  {
   "cell_type": "markdown",
   "metadata": {},
   "source": [
    "## Structures de données : les ensembles (sets)\n",
    "\n",
    "Les sets sont des collections non ordonnées d'éléments uniques. Ils sont utiles lorsque tu veux éviter les doublons ou effectuer des opérations ensemblistes (union, intersection)."
   ]
  },
  {
   "cell_type": "code",
   "execution_count": null,
   "metadata": {},
   "outputs": [
    {
     "name": "stdout",
     "output_type": "stream",
     "text": [
      "{'pomme', 'orange', 'banane'}\n",
      "{'cerise', 'pomme', 'orange', 'banane'}\n",
      "{'cerise', 'pomme', 'orange'}\n",
      "{'orange'}\n",
      "{'pomme', 'kiwi', 'orange', 'fraise', 'cerise'}\n"
     ]
    }
   ],
   "source": [
    "# Exemple : Créer un set\n",
    "fruits = {\"pomme\", \"banane\", \"orange\", \"pomme\"}  # \"pomme\" est en double\n",
    "\n",
    "# Afficher le set\n",
    "print(fruits)  # Affiche {'orange', 'pomme', 'banane'} (pas de doublons et l'ordre peut varier)\n",
    "\n",
    "# Ajouter un élément\n",
    "fruits.add(\"cerise\")\n",
    "print(fruits)  # Affiche {'orange', 'pomme', 'banane', 'cerise'}\n",
    "\n",
    "# Supprimer un élément\n",
    "fruits.remove(\"banane\")\n",
    "print(fruits)  # Affiche {'orange', 'pomme', 'cerise'}\n",
    "\n",
    "# Opérations ensemblistes\n",
    "autres_fruits = {\"fraise\", \"orange\", \"kiwi\"}\n",
    "print(fruits.intersection(autres_fruits))  # Affiche {'orange'} (éléments communs)\n",
    "print(fruits.union(autres_fruits))  # Affiche l'union des deux sets\n"
   ]
  },
  {
   "cell_type": "markdown",
   "metadata": {},
   "source": [
    "## Structures de données : combinaisons de listes, dictionnaires, tuples\n",
    "\n"
   ]
  },
  {
   "cell_type": "code",
   "execution_count": null,
   "metadata": {},
   "outputs": [],
   "source": [
    "# Créer une liste de dictionnaires contenant des informations sur des étudiants\n",
    "etudiants = [\n",
    "    {\"nom\": \"Alice\", \"age\": 22, \"note\": 15},\n",
    "    {\"nom\": \"Bob\", \"age\": 21, \"note\": 12},\n",
    "    {\"nom\": \"Charlie\", \"age\": 23, \"note\": 17}\n",
    "]"
   ]
  },
  {
   "cell_type": "markdown",
   "metadata": {},
   "source": [
    "## Boucle sur des structures de données"
   ]
  },
  {
   "cell_type": "code",
   "execution_count": null,
   "metadata": {},
   "outputs": [
    {
     "name": "stdout",
     "output_type": "stream",
     "text": [
      "Alice a 22 ans et a obtenu la note 15\n",
      "Bob a 21 ans et a obtenu la note 12\n",
      "Charlie a 23 ans et a obtenu la note 17\n"
     ]
    }
   ],
   "source": [
    "# Boucler sur la liste pour afficher des informations\n",
    "for etudiant in etudiants:\n",
    "    print(f\"{etudiant['nom']} a {etudiant['age']} ans et a obtenu la note {etudiant['note']}\")"
   ]
  },
  {
   "cell_type": "markdown",
   "metadata": {},
   "source": [
    "## Input clavier\n",
    "La fonction input() attend que l'utilisateur saisisse une donnée au clavier et appuie sur Entrée. Elle renvoie ensuite cette donnée sous forme de chaîne de caractères (string)."
   ]
  },
  {
   "cell_type": "code",
   "execution_count": null,
   "metadata": {},
   "outputs": [
    {
     "name": "stdout",
     "output_type": "stream",
     "text": [
      "Bonjour, Eric !\n"
     ]
    }
   ],
   "source": [
    "# Demander à l'utilisateur de saisir son nom\n",
    "nom = input(\"Entrez votre nom : \")\n",
    "print(\"Bonjour, \" + nom + \" !\")"
   ]
  },
  {
   "cell_type": "code",
   "execution_count": null,
   "metadata": {},
   "outputs": [],
   "source": [
    "# Demander à l'utilisateur d'entrer un nombre entier\n",
    "age = int(input(\"Entrez votre âge : \"))\n",
    "print(f\"Vous avez {age} ans.\")"
   ]
  },
  {
   "cell_type": "code",
   "execution_count": null,
   "metadata": {},
   "outputs": [
    {
     "name": "stdout",
     "output_type": "stream",
     "text": [
      "Votre taille est de 150.0 m.\n"
     ]
    }
   ],
   "source": [
    "# Demander à l'utilisateur d'entrer un nombre flottant\n",
    "taille = float(input(\"Entrez votre taille en mètres : \"))\n",
    "print(f\"Votre taille est de {taille} m.\")"
   ]
  },
  {
   "cell_type": "markdown",
   "metadata": {},
   "source": [
    "# Introduction aux APIs et à HTTP\n",
    "\n",
    "Une API permet à deux systèmes d'échanger des informations à travers un réseau (généralement Internet). La communication se fait souvent via des requêtes HTTP. Il existe plusieurs types de requêtes HTTP, les plus courantes étant :\n",
    "\n",
    "GET : pour récupérer des données,\n",
    "POST : pour envoyer des données,\n",
    "PUT et DELETE : pour modifier ou supprimer des données.\n",
    "Lorsqu'on interagit avec une API, on envoie une requête HTTP (par exemple, une requête GET pour obtenir des informations), et l'API nous renvoie une réponse sous un format standard, souvent du JSON (JavaScript Object Notation)."
   ]
  },
  {
   "cell_type": "markdown",
   "metadata": {},
   "source": [
    "## Bibliothèque requests\n",
    "\n",
    "La bibliothèque Python requests permet d'envoyer facilement des requêtes HTTP. Si tu ne l'as pas déjà installée, tu peux le faire avec la commande :"
   ]
  },
  {
   "cell_type": "code",
   "execution_count": 5,
   "metadata": {},
   "outputs": [
    {
     "name": "stdout",
     "output_type": "stream",
     "text": [
      "\u001b[1;31merror\u001b[0m: \u001b[1mexternally-managed-environment\u001b[0m\n",
      "\n",
      "\u001b[31m×\u001b[0m This environment is externally managed\n",
      "\u001b[31m╰─>\u001b[0m To install Python packages system-wide, try apt install\n",
      "\u001b[31m   \u001b[0m python3-xyz, where xyz is the package you are trying to\n",
      "\u001b[31m   \u001b[0m install.\n",
      "\u001b[31m   \u001b[0m \n",
      "\u001b[31m   \u001b[0m If you wish to install a non-Debian-packaged Python package,\n",
      "\u001b[31m   \u001b[0m create a virtual environment using python3 -m venv path/to/venv.\n",
      "\u001b[31m   \u001b[0m Then use path/to/venv/bin/python and path/to/venv/bin/pip. Make\n",
      "\u001b[31m   \u001b[0m sure you have python3-full installed.\n",
      "\u001b[31m   \u001b[0m \n",
      "\u001b[31m   \u001b[0m If you wish to install a non-Debian packaged Python application,\n",
      "\u001b[31m   \u001b[0m it may be easiest to use pipx install xyz, which will manage a\n",
      "\u001b[31m   \u001b[0m virtual environment for you. Make sure you have pipx installed.\n",
      "\u001b[31m   \u001b[0m \n",
      "\u001b[31m   \u001b[0m See /usr/share/doc/python3.12/README.venv for more information.\n",
      "\n",
      "\u001b[1;35mnote\u001b[0m: If you believe this is a mistake, please contact your Python installation or OS distribution provider. You can override this, at the risk of breaking your Python installation or OS, by passing --break-system-packages.\n",
      "\u001b[1;36mhint\u001b[0m: See PEP 668 for the detailed specification.\n",
      "Note: you may need to restart the kernel to use updated packages.\n"
     ]
    }
   ],
   "source": [
    "pip install requests"
   ]
  },
  {
   "cell_type": "markdown",
   "metadata": {},
   "source": [
    "## Exemple d'accès à une API \n",
    "\n",
    "Récupérer des données via une API publique.\n",
    "\n",
    "Pour cet exemple, nous allons utiliser une API simple qui fournit des informations factuelles sur des pays, via le service RestCountries. Voici l'URL de l'API :"
   ]
  },
  {
   "cell_type": "code",
   "execution_count": null,
   "metadata": {},
   "outputs": [
    {
     "ename": "SyntaxError",
     "evalue": "invalid syntax (768463301.py, line 1)",
     "output_type": "error",
     "traceback": [
      "\u001b[0;36m  Cell \u001b[0;32mIn[104], line 1\u001b[0;36m\u001b[0m\n",
      "\u001b[0;31m    https://restcountries.com/v3.1/all\u001b[0m\n",
      "\u001b[0m          ^\u001b[0m\n",
      "\u001b[0;31mSyntaxError\u001b[0m\u001b[0;31m:\u001b[0m invalid syntax\n"
     ]
    }
   ],
   "source": [
    "# url à tester dans un navigateur\n",
    "https://restcountries.com/v3.1/all"
   ]
  },
  {
   "cell_type": "code",
   "execution_count": null,
   "metadata": {},
   "outputs": [
    {
     "name": "stdout",
     "output_type": "stream",
     "text": [
      "Nom : South Georgia\n",
      "Population : 30\n",
      "Région : Antarctic\n",
      "Capitale : King Edward Point\n",
      "------------------------------\n",
      "Nom : Grenada\n",
      "Population : 112519\n",
      "Région : Americas\n",
      "Capitale : St. George's\n",
      "------------------------------\n",
      "Nom : Switzerland\n",
      "Population : 8654622\n",
      "Région : Europe\n",
      "Capitale : Bern\n",
      "------------------------------\n",
      "Nom : Sierra Leone\n",
      "Population : 7976985\n",
      "Région : Africa\n",
      "Capitale : Freetown\n",
      "------------------------------\n",
      "Nom : Hungary\n",
      "Population : 9749763\n",
      "Région : Europe\n",
      "Capitale : Budapest\n",
      "------------------------------\n"
     ]
    }
   ],
   "source": [
    "import requests\n",
    "\n",
    "# URL de l'API pour récupérer des informations sur tous les pays\n",
    "url = \"https://restcountries.com/v3.1/all\"\n",
    "\n",
    "# Faire la requête GET à l'API\n",
    "response = requests.get(url)\n",
    "\n",
    "# Vérifier que la requête a réussi (code 200)\n",
    "if response.status_code == 200:\n",
    "    # Récupérer les données au format JSON\n",
    "    data = response.json()\n",
    "    \n",
    "    # Afficher quelques informations sur les premiers pays\n",
    "    for country in data[:5]:  # On limite l'affichage aux 5 premiers pays\n",
    "        nom = country.get('name', {}).get('common', 'N/A')\n",
    "        population = country.get('population', 'N/A')\n",
    "        region = country.get('region', 'N/A')\n",
    "        capitale = country.get('capital', ['N/A'])[0]\n",
    "        \n",
    "        print(f\"Nom : {nom}\")\n",
    "        print(f\"Population : {population}\")\n",
    "        print(f\"Région : {region}\")\n",
    "        print(f\"Capitale : {capitale}\")\n",
    "        print(\"-\" * 30)\n",
    "else:\n",
    "    print(\"Erreur lors de la requête :\", response.status_code)\n"
   ]
  },
  {
   "cell_type": "markdown",
   "metadata": {},
   "source": [
    "## Format de la réponse (JSON)\n",
    "\n",
    "Le format JSON est une structure de données qui ressemble beaucoup à un dictionnaire Python. Voici un extrait de la réponse JSON de l'API restcountries pour un pays :"
   ]
  },
  {
   "cell_type": "markdown",
   "metadata": {},
   "source": [
    "{\n",
    "    \"name\": {\n",
    "        \"common\": \"France\",\n",
    "        \"official\": \"French Republic\"\n",
    "    },\n",
    "    \"capital\": [\"Paris\"],\n",
    "    \"region\": \"Europe\",\n",
    "    \"population\": 67391582\n",
    "}\n"
   ]
  },
  {
   "cell_type": "markdown",
   "metadata": {},
   "source": [
    "## Accéder à des données spécifiques\n",
    "\n",
    "Dans l'exemple, nous avons utilisé des clés comme 'name', 'population', et 'region' pour accéder aux données dans le dictionnaire JSON.\n",
    "\n",
    "Si une clé n'existe pas, nous avons utilisé .get() avec une valeur par défaut ('N/A') pour éviter une erreur."
   ]
  },
  {
   "cell_type": "markdown",
   "metadata": {},
   "source": [
    "## Traitement d'erreurs\n",
    "\n",
    "Il est important de vérifier le code de statut de la réponse HTTP :\n",
    "\n",
    "200 : Succès,\n",
    "404 : Ressource non trouvée,\n",
    "500 : Erreur interne du serveur."
   ]
  },
  {
   "cell_type": "markdown",
   "metadata": {},
   "source": [
    "## Exercice : quiz capitales"
   ]
  },
  {
   "cell_type": "code",
   "execution_count": null,
   "metadata": {},
   "outputs": [
    {
     "name": "stdout",
     "output_type": "stream",
     "text": [
      "Question 1: Quelle est la capitale de Falkland Islands ?\n",
      "Incorrect. La capitale de Falkland Islands est Stanley.\n",
      "------------------------------\n",
      "Question 2: Quelle est la capitale de Seychelles ?\n",
      "Correct !\n",
      "------------------------------\n",
      "Question 3: Quelle est la capitale de Kiribati ?\n",
      "Incorrect. La capitale de Kiribati est South Tarawa.\n",
      "------------------------------\n",
      "Question 4: Quelle est la capitale de Liberia ?\n",
      "Correct !\n",
      "------------------------------\n",
      "Question 5: Quelle est la capitale de Republic of the Congo ?\n",
      "Incorrect. La capitale de Republic of the Congo est Brazzaville.\n",
      "------------------------------\n",
      "Question 6: Quelle est la capitale de Mauritania ?\n",
      "Incorrect. La capitale de Mauritania est Nouakchott.\n",
      "------------------------------\n",
      "Question 7: Quelle est la capitale de Lebanon ?\n",
      "Incorrect. La capitale de Lebanon est Beirut.\n",
      "------------------------------\n",
      "Question 8: Quelle est la capitale de Northern Mariana Islands ?\n",
      "Incorrect. La capitale de Northern Mariana Islands est Saipan.\n",
      "------------------------------\n",
      "Question 9: Quelle est la capitale de France ?\n",
      "Incorrect. La capitale de France est Paris.\n",
      "------------------------------\n",
      "Question 10: Quelle est la capitale de Iran ?\n",
      "Incorrect. La capitale de Iran est Tehran.\n",
      "------------------------------\n",
      "Vous avez terminé le quiz avec un score de 2/10.\n"
     ]
    }
   ],
   "source": [
    "import requests\n",
    "import random\n",
    "\n",
    "# URL de l'API pour récupérer des informations sur tous les pays\n",
    "url = \"https://restcountries.com/v3.1/all\"\n",
    "\n",
    "# Faire la requête GET à l'API\n",
    "response = requests.get(url)\n",
    "\n",
    "# Vérifier que la requête a réussi (code 200)\n",
    "if response.status_code == 200:\n",
    "    # Récupérer les données au format JSON\n",
    "    data = response.json()\n",
    "    \n",
    "    # Préparer une liste des pays avec capitale\n",
    "    countries_with_capitals = []\n",
    "    for country in data:\n",
    "        # On vérifie que le pays a un nom commun et une capitale\n",
    "        if 'capital' in country and 'name' in country and 'common' in country['name']:\n",
    "            countries_with_capitals.append(country)\n",
    "    \n",
    "    # Initialiser le score\n",
    "    score = 0\n",
    "    \n",
    "    # Boucle de 10 questions\n",
    "    for i in range(10):\n",
    "        # Tirer un pays au hasard\n",
    "        country = random.choice(countries_with_capitals)\n",
    "        nom = country['name']['common']\n",
    "        capitale = country['capital'][0]\n",
    "        \n",
    "        # Poser la question à l'utilisateur\n",
    "        print(f\"Question {i+1}: Quelle est la capitale de {nom} ?\")\n",
    "        reponse = input(\"Votre réponse : \")\n",
    "        \n",
    "        # Vérifier la réponse\n",
    "        if reponse.lower() == capitale.lower():\n",
    "            print(\"Correct !\")\n",
    "            score += 1\n",
    "        else:\n",
    "            print(f\"Incorrect. La capitale de {nom} est {capitale}.\")\n",
    "        print(\"-\" * 30)\n",
    "    \n",
    "    # Afficher le score final\n",
    "    print(f\"Vous avez terminé le quiz avec un score de {score}/10.\")\n",
    "else:\n",
    "    print(\"Erreur lors de la requête :\", response.status_code)\n"
   ]
  },
  {
   "cell_type": "markdown",
   "metadata": {},
   "source": [
    "## Autre exemple : requête sur une API météo\n",
    "\n",
    "Pour mettre en pratique, tu pourrais essayer de faire une requête à une API météo, par exemple l'API OpenWeatherMap (tu devras créer un compte gratuit pour obtenir une clé API)."
   ]
  },
  {
   "cell_type": "code",
   "execution_count": null,
   "metadata": {},
   "outputs": [
    {
     "name": "stdout",
     "output_type": "stream",
     "text": [
      "Température actuelle : 18.4°C\n",
      "Vitesse du vent : 5.8 km/h\n",
      "Code météo : 3\n"
     ]
    },
    {
     "data": {
      "text/plain": [
       "{'temperature': 18.4, 'vent_vitesse': 5.8, 'condition': 3}"
      ]
     },
     "metadata": {},
     "output_type": "display_data"
    }
   ],
   "source": [
    "import requests\n",
    "\n",
    "def obtenir_meteo_open_meteo(latitude, longitude):\n",
    "    url = f\"https://api.open-meteo.com/v1/forecast?latitude={latitude}&longitude={longitude}&current_weather=true\"\n",
    "    \n",
    "    try:\n",
    "        response = requests.get(url)\n",
    "        response.raise_for_status()\n",
    "        data = response.json()\n",
    "        \n",
    "        meteo_actuelle = data.get(\"current_weather\", {})\n",
    "        temperature = meteo_actuelle.get(\"temperature\", \"N/A\")\n",
    "        vent_vitesse = meteo_actuelle.get(\"windspeed\", \"N/A\")\n",
    "        condition = meteo_actuelle.get(\"weathercode\", \"N/A\")\n",
    "        \n",
    "        print(f\"Température actuelle : {temperature}°C\")\n",
    "        print(f\"Vitesse du vent : {vent_vitesse} km/h\")\n",
    "        print(f\"Code météo : {condition}\")\n",
    "        \n",
    "        return {\n",
    "            \"temperature\": temperature,\n",
    "            \"vent_vitesse\": vent_vitesse,\n",
    "            \"condition\": condition\n",
    "        }\n",
    "    except requests.exceptions.RequestException as e:\n",
    "        print(f\"Erreur lors de la requête : {e}\")\n",
    "        return None\n",
    "\n",
    "obtenir_meteo_open_meteo(48.8566, 2.3522)"
   ]
  },
  {
   "cell_type": "markdown",
   "metadata": {},
   "source": [
    "# Exercice final : météo d'un lieu\n",
    "\n",
    "Saisie utilisateur : Demander à l'utilisateur d'entrer le nom d'une ville et un pays.\n",
    "\n",
    "Géocodage : Utiliser une API de géocodage pour obtenir les coordonnées géographiques (latitude et longitude) à partir du nom de la ville et du pays.\n",
    "\n",
    "Météo : Utiliser les coordonnées obtenues pour appeler l'API météo Open-Meteo (ou une autre API météo) et afficher les conditions météorologiques actuelles du lieu."
   ]
  },
  {
   "cell_type": "markdown",
   "metadata": {},
   "source": [
    "API utilisées :\n",
    "\n",
    "API de géocodage : Nous allons utiliser l'API OpenCage pour convertir une ville et un pays en latitude et longitude. (Elle nécessite une clé API gratuite, mais je vais aussi te montrer une alternative sans clé API pour cet exercice).\n",
    "\n",
    "API météo : Nous utiliserons l'API Open-Meteo (pas de clé API nécessaire)."
   ]
  },
  {
   "cell_type": "markdown",
   "metadata": {},
   "source": [
    "### Étape 1 : Géocodage avec Nominatim (obtenir latitude et longitude)\n",
    "\n",
    "L'API Nominatim permet de convertir un nom de lieu (ville + pays) en latitude et longitude.\n",
    "\n",
    "https://nominatim.openstreetmap.org/search?q=Paris,France&format=json&limit=1"
   ]
  },
  {
   "cell_type": "code",
   "execution_count": null,
   "metadata": {},
   "outputs": [],
   "source": [
    "import requests\n",
    "\n",
    "def obtenir_coordonnees(ville, pays):\n",
    "    url = f\"https://nominatim.openstreetmap.org/search?q={ville},{pays}&format=json&limit=1\"\n",
    "    \n",
    "    # Ajouter un en-tête 'User-Agent' pour se conformer aux règles de Nominatim\n",
    "    headers = {\n",
    "        'User-Agent': 'GeoCoderApp/1.0 (contact: your_email@example.com)'\n",
    "    }\n",
    "    \n",
    "    # à décommenter et à compléter\n",
    "    #try:\n",
    "\n",
    "    #except requests.exceptions.RequestException as e:\n",
    "        #print(f\"Erreur lors de la requête : {e}\")\n",
    "        #return None, None\n",
    "    "
   ]
  },
  {
   "cell_type": "markdown",
   "metadata": {},
   "source": [
    "### Étape 2 Utiliser l'API Open-Meteo pour obtenir la météo\n",
    "\n",
    "Une fois les coordonnées obtenues, nous pouvons utiliser l'API Open-Meteo pour obtenir les informations météorologiques du lieu."
   ]
  },
  {
   "cell_type": "code",
   "execution_count": null,
   "metadata": {},
   "outputs": [],
   "source": [
    "def obtenir_meteo_open_meteo(latitude, longitude):\n",
    "    url = f\"https://api.open-meteo.com/v1/forecast?latitude={latitude}&longitude={longitude}&current_weather=true\"\n",
    "    \n",
    "    # à décommenter et à compléter\n",
    "    #try:\n",
    "        #\n",
    "    #except requests.exceptions.RequestException as e:\n",
    "        #print(f\"Erreur lors de la requête : {e}\")\n",
    "        #return None\n"
   ]
  },
  {
   "cell_type": "markdown",
   "metadata": {},
   "source": [
    "### Étape 3 : Programme principal\n",
    "\n",
    "Le programme va demander à l'utilisateur de saisir une ville et un pays, puis obtenir les coordonnées géographiques à l'aide de Nominatim. Ensuite, il utilisera ces coordonnées pour appeler Open-Meteo et afficher la météo."
   ]
  },
  {
   "cell_type": "code",
   "execution_count": null,
   "metadata": {},
   "outputs": [],
   "source": [
    "def programme_principal_meteo():\n",
    "    print(\"Bienvenue dans l'application météo !\")\n",
    "    \n",
    "    while True:\n",
    "        # Demander à l'utilisateur d'entrer une ville et un pays\n",
    "        \n",
    "\n",
    "        # Étape 1 : Obtenir les coordonnées géographiques (latitude et longitude)\n",
    "        \n",
    "        if latitude is not None and longitude is not None:\n",
    "            # Étape 2 : Obtenir la météo avec Open-Meteo\n",
    "            \n",
    "        \n",
    "        # Demander si l'utilisateur veut faire une autre recherche\n",
    "        choix = input(\"\\nVoulez-vous rechercher une autre ville ? (oui/non) : \").lower()\n",
    "        if choix != \"oui\":\n",
    "            print(\"Au revoir !\")\n",
    "            break\n",
    "\n",
    "# Exécuter le programme\n",
    "programme_principal_meteo()\n"
   ]
  }
 ],
 "metadata": {
  "kernelspec": {
   "display_name": "Python 3",
   "language": "python",
   "name": "python3"
  },
  "language_info": {
   "codemirror_mode": {
    "name": "ipython",
    "version": 3
   },
   "file_extension": ".py",
   "mimetype": "text/x-python",
   "name": "python",
   "nbconvert_exporter": "python",
   "pygments_lexer": "ipython3",
   "version": "3.12.3"
  }
 },
 "nbformat": 4,
 "nbformat_minor": 2
}
