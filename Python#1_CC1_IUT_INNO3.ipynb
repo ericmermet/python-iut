{
 "cells": [
  {
   "cell_type": "markdown",
   "metadata": {},
   "source": [
    "# Contrôles des connaissances n° 1\n",
    "\n",
    "Il s'agira de lire le fichier notes_etudiants.csv dans le répertoire csv. Celui-ci contient la structure suivante : Nom,Prénom,Note\n",
    "Le fichier est à récupérer ici : https://github.com/ericmermet/python-iut/tree/main/csv\n",
    "et à placer dans les fichiers accessibles dans Google Colab\n",
    "\n",
    "Ecrire le code nécessaires pour afficher les résultats suivants :\n",
    "- Le nombre total de notes.\n",
    "- La note moyenne.\n",
    "- La note maximale et la note minimale.\n",
    "- Le nombre de notes au-dessus de la moyenne.\n",
    "\n",
    "- Bonus : les noms et prénoms des étudiants qui ont eu les notes maximale et minimale.\n",
    "\n",
    "\n",
    "Pour finir : Fichier/Télécharger (au format) ipynb, à envoyer à eric.mermet@tse-fr.eu\n",
    "\n",
    "Ajouter un bloc de texte ci-dessous qui contiendra vos noms, prénoms."
   ]
  },
  {
   "cell_type": "code",
   "execution_count": null,
   "metadata": {},
   "outputs": [],
   "source": [
    "#######################\n",
    "## Squelette de code ##\n",
    "#######################\n",
    "\n",
    "# Faire les imports nécessaires\n",
    "\n",
    "# Définir les variables nécessaires\n",
    "\n",
    "# Ecrire le programme principal\n",
    "\n",
    "# Lire le fichier csv\n",
    "\n",
    "    # Pendant la lecture et/ou après la lecture du fichier, écrire le code nécessaire pour obtenir les résultats (nombre total de notes, note moyenne, notes maxi et mini, nombre de notes)\n",
    "\n",
    "# Faire les affichages des résultats"
   ]
  }
 ],
 "metadata": {
  "kernelspec": {
   "display_name": "Python 3",
   "language": "python",
   "name": "python3"
  },
  "language_info": {
   "codemirror_mode": {
    "name": "ipython",
    "version": 3
   },
   "file_extension": ".py",
   "mimetype": "text/x-python",
   "name": "python",
   "nbconvert_exporter": "python",
   "pygments_lexer": "ipython3",
   "version": "3.12.3"
  }
 },
 "nbformat": 4,
 "nbformat_minor": 2
}
