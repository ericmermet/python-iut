{
 "cells": [
  {
   "cell_type": "markdown",
   "metadata": {},
   "source": [
    "## Qu'est-ce que la programmation ?\n",
    "\n",
    "La programmation consiste à écrire des instructions pour qu'un ordinateur effectue des tâches spécifiques. Ces instructions sont écrites dans des langages de programmation, qui sont des systèmes de communication entre l’humain et la machine.\n",
    "\n",
    "Un programme est une suite d’instructions que l’ordinateur va exécuter dans un ordre logique pour résoudre un problème ou accomplir une tâche.\n",
    "\n",
    "Les programmes informatiques permettent de :\n",
    "- Automatiser des tâches répétitives,\n",
    "- Traiter des données (comme des textes, des nombres, des images, etc.),\n",
    "- Communiquer avec des services en ligne (API),\n",
    "- Manipuler des fichiers et des systèmes d’information.\n",
    "\n",
    "Les langages de programmation permettent aux programmeurs de s'abstraire de la complexité du matériel informatique et d'écrire du code de manière plus lisible et productive. Parmi les langages les plus connus, on peut citer Python, C, Java, JavaScript, et bien d'autres.\n",
    "\n",
    "### Langages de programmation\n",
    "\n",
    "Les langages de programmation peuvent se diviser en plusieurs catégories, dont :\n",
    "- **Langages de bas niveau** : proches du matériel, comme l'assembleur.\n",
    "- **Langages de haut niveau** : plus abstraits, faciles à lire et à comprendre pour les humains (comme Python, Java, ou C++).\n",
    "\n",
    "Les langages de programmation se différencient aussi selon la manière dont ils sont exécutés par la machine. Deux grandes catégories se distinguent : les langages **compilés** et les langages **interprétés**.\n"
   ]
  },
  {
   "cell_type": "markdown",
   "metadata": {},
   "source": [
    "## Langages compilés vs Langages interprétés\n",
    "\n",
    "Lorsque nous écrivons un programme, l'ordinateur ne peut pas comprendre directement les instructions que nous avons écrites en tant que développeur. Il a besoin de les traduire en instructions que le processeur peut exécuter (du langage machine, composé de 0 et de 1).\n",
    "\n",
    "### Langages compilés\n",
    "\n",
    "Les **langages compilés** nécessitent un processus de compilation avant de pouvoir être exécutés. Cela signifie que le programme est converti une seule fois en un fichier exécutable binaire (.exe, .out, etc.) que l'ordinateur peut comprendre directement. Une fois compilé, ce fichier exécutable peut être lancé sans avoir besoin de l'outil de compilation.\n",
    "\n",
    "**Exemples de langages compilés :**\n",
    "- C\n",
    "- C++\n",
    "- Go\n",
    "- Rust\n",
    "\n",
    "**Avantages des langages compilés :**\n",
    "- Les programmes compilés sont généralement plus rapides à l'exécution, car ils sont directement convertis en code machine.\n",
    "- Le programme n’a plus besoin du compilateur pour être exécuté, ce qui facilite la distribution d’une application (un fichier exécutable est suffisant).\n",
    "\n",
    "**Inconvénients :**\n",
    "- Chaque modification du code nécessite une recompilation.\n",
    "- Il peut être plus complexe de déboguer le code une fois compilé.\n",
    "\n",
    "### Langages interprétés\n",
    "\n",
    "Les **langages interprétés** sont exécutés ligne par ligne par un interpréteur, sans passer par une phase de compilation préalable. Lorsque vous lancez un programme écrit dans un langage interprété, l’interpréteur lit chaque ligne du code, la traduit en instructions machine, et l'exécute immédiatement.\n",
    "\n",
    "**Exemples de langages interprétés :**\n",
    "- Python\n",
    "- JavaScript\n",
    "- PHP\n",
    "- Ruby\n",
    "\n",
    "**Avantages des langages interprétés :**\n",
    "- Ils sont généralement plus simples à tester et à déboguer, car les modifications sont exécutées directement sans besoin de recompilation.\n",
    "- Ils sont souvent plus flexibles et adaptés à des tâches rapides de prototypage et de développement.\n",
    "\n",
    "**Inconvénients :**\n",
    "- Les programmes interprétés peuvent être plus lents que les programmes compilés, car la traduction en code machine est effectuée à la volée (pendant l'exécution).\n",
    "- Ils nécessitent la présence de l’interpréteur sur la machine qui exécute le programme.\n",
    "\n",
    "### Le cas de Python\n",
    "\n",
    "Python est un **langage interprété**, ce qui signifie qu'il n'y a pas de compilation préalable pour générer un fichier exécutable. À chaque fois que vous exécutez un script Python, l'interpréteur Python lit et exécute directement le code ligne par ligne. Cela permet de modifier rapidement le code et de tester des fonctionnalités sans avoir à recompiler le programme à chaque modification.\n",
    "\n",
    "En revanche, cela peut rendre Python un peu plus lent que certains langages compilés comme le C ou le C++. Cependant, sa simplicité, sa lisibilité, et sa large bibliothèque d'outils le rendent très populaire dans de nombreux domaines, notamment la gestion de données, le développement web, et l'automatisation des tâches.\n"
   ]
  },
  {
   "cell_type": "markdown",
   "metadata": {},
   "source": [
    "## Conclusion\n",
    "\n",
    "En résumé, les **langages compilés** traduisent le code source en code machine une seule fois, tandis que les **langages interprétés** traduisent le code au moment de l'exécution, ligne par ligne. Python, que nous allons utiliser dans cette formation, est un langage interprété, ce qui en fait un excellent choix pour des projets où la rapidité de développement, la simplicité, et la flexibilité sont des priorités.\n"
   ]
  },
  {
   "cell_type": "markdown",
   "metadata": {},
   "source": [
    "# Séance 1 : Introduction à Python et Manipulation des données\n",
    "Ce notebook vous guidera à travers les bases du langage Python et quelques exemples pratiques sur la manipulation de fichiers. À la fin de cette séance, vous serez capable de :\n",
    "- Comprendre les structures de base en Python (variables, conditions, boucles).\n",
    "- Manipuler des fichiers texte et CSV pour extraire et traiter des données.\n"
   ]
  },
  {
   "cell_type": "markdown",
   "metadata": {},
   "source": [
    "## Installation et prise en main de Python\n",
    "\n",
    "Avant de commencer à utiliser Python, vous pouvez installer les outils suivants si ce n'est pas déjà fait :\n",
    "- [Python](https://www.python.org/downloads/)\n",
    "- [Jupyter Notebook](https://jupyter.org/install)\n",
    "\n",
    "Nous utiliserons ce notebook pour exécuter nos scripts Python.\n"
   ]
  },
  {
   "cell_type": "markdown",
   "metadata": {},
   "source": [
    "## Variables et Types de données\n",
    "\n",
    "En Python, une variable est un espace mémoire où vous pouvez stocker une valeur. Vous pouvez stocker différents types de données dans des variables."
   ]
  },
  {
   "cell_type": "code",
   "execution_count": 1,
   "metadata": {},
   "outputs": [
    {
     "name": "stdout",
     "output_type": "stream",
     "text": [
      "Alice\n",
      "25\n",
      "3.14159\n"
     ]
    }
   ],
   "source": [
    "# Variables simples\n",
    "prenom = \"Alice\"\n",
    "age = 25\n",
    "pi = 3.14159\n",
    "\n",
    "print(prenom)\n",
    "print(age)\n",
    "print(pi)\n"
   ]
  },
  {
   "cell_type": "code",
   "execution_count": 2,
   "metadata": {},
   "outputs": [
    {
     "name": "stdout",
     "output_type": "stream",
     "text": [
      "<class 'int'> <class 'float'> <class 'str'> <class 'bool'>\n"
     ]
    }
   ],
   "source": [
    "# Entier\n",
    "nombre = 10\n",
    "# Flottant\n",
    "flottant = 10.5\n",
    "# Chaîne de caractères\n",
    "texte = \"Bonjour\"\n",
    "# Booléen\n",
    "vrai_ou_faux = True\n",
    "\n",
    "print(type(nombre), type(flottant), type(texte), type(vrai_ou_faux))"
   ]
  },
  {
   "cell_type": "code",
   "execution_count": 4,
   "metadata": {},
   "outputs": [],
   "source": [
    "#Exercice : écrire les variables nécessaires pour afficher votre carte d'identité sous forme de texte : prénom, nom, date de naissance, ville de naissance, taille, adresse\n"
   ]
  },
  {
   "cell_type": "markdown",
   "metadata": {},
   "source": [
    "## Opérations sur les variables\n",
    "\n",
    "Des opérateurs spécifiques sont disponibles en fonction des types de variables."
   ]
  },
  {
   "cell_type": "code",
   "execution_count": 51,
   "metadata": {},
   "outputs": [
    {
     "name": "stdout",
     "output_type": "stream",
     "text": [
      "Opérations sur les types numériques entiers\n",
      "3\n",
      "1\n",
      "4\n",
      "1.0\n",
      "0\n",
      "Opérations sur les types numériques flottants\n",
      "2.69\n",
      "-0.22199999999999998\n",
      "8.377626\n",
      "10.032520325203253\n",
      "1.234\n",
      "Opérations sur les types numériques booléens\n",
      "True\n",
      "False\n",
      "True\n",
      "True\n",
      "False\n",
      "True\n"
     ]
    }
   ],
   "source": [
    "# Opérateurs mathématiques sur les types numériques : entiers, flottants.\n",
    "entier = 2\n",
    "flottant = 1.234\n",
    "\n",
    "print(\"Opérations sur les types numériques entiers\")\n",
    "\n",
    "print(entier + 1)   #addition\n",
    "print(entier - 1)   #soustraction\n",
    "print(entier * 2)   #multiplication\n",
    "print(entier / 2)   #division\n",
    "print(entier % 2)   #modulo : reste de la division euclidienne\n",
    "\n",
    "print(\"Opérations sur les types numériques flottants\")\n",
    "print(flottant + 1.456)\n",
    "print(flottant - 1.456)\n",
    "print(flottant * 6.789)\n",
    "print(flottant / 0.123)\n",
    "print(flottant % 4)   #modulo : reste de la division euclidienne\n",
    "\n",
    "print(\"Opérations sur les types numériques booléens\")\n",
    "print(vrai_ou_faux & True)  # opérateur booléen et logique\n",
    "print(vrai_ou_faux & False) # opérateur booléen et logique\n",
    "print(vrai_ou_faux | False) # opérateur booléen ou logique\n",
    "print(vrai_ou_faux | True) # opérateur booléen ou logique\n",
    "print(vrai_ou_faux ^ True) # opérateur booléen ou exclusif logique\n",
    "print(vrai_ou_faux ^ False) # opérateur booléen ou exclusif logique\n"
   ]
  },
  {
   "cell_type": "code",
   "execution_count": 41,
   "metadata": {},
   "outputs": [
    {
     "name": "stdout",
     "output_type": "stream",
     "text": [
      " \n",
      " \n",
      " \n",
      "0\n",
      "-1\n",
      "* *\n",
      "  a 0 ans\n"
     ]
    }
   ],
   "source": [
    "# Opérateurs mathématiques sur les types chaînes de caractères : string\n",
    "\n",
    "# Entrez vos prénom, nom et âge ici\n",
    "prenom = ''\n",
    "nom = ''\n",
    "age = 0\n",
    "\n",
    "concatenation = prenom + ' ' + nom\n",
    "print(concatenation)\n",
    "\n",
    "#Méthodes sur les strings :\n",
    "# voir par exemple https://www.w3schools.com/python/python_ref_string.asp\n",
    "\n",
    "print(concatenation.replace('r', 'l'))\n",
    "print(concatenation.upper())\n",
    "print(concatenation.count('e'))\n",
    "print(concatenation.find('M'))\n",
    "print(concatenation.join('**'))\n",
    "\n",
    "print(concatenation + ' a ' + str(age) + ' ans')"
   ]
  },
  {
   "cell_type": "markdown",
   "metadata": {},
   "source": [
    "## Conditions et Boucles\n",
    "\n",
    "Les conditions permettent d'exécuter du code seulement si certaines conditions sont remplies. Les boucles permettent de répéter des instructions plusieurs fois.\n"
   ]
  },
  {
   "cell_type": "code",
   "execution_count": 5,
   "metadata": {},
   "outputs": [
    {
     "name": "stdout",
     "output_type": "stream",
     "text": [
      "x est plus grand que 5\n"
     ]
    }
   ],
   "source": [
    "# Exemple de condition\n",
    "x = 10\n",
    "if x > 5:\n",
    "    print(\"x est plus grand que 5\")\n",
    "else:\n",
    "    print(\"x est plus petit ou égal à 5\")\n"
   ]
  },
  {
   "cell_type": "code",
   "execution_count": 6,
   "metadata": {},
   "outputs": [
    {
     "name": "stdout",
     "output_type": "stream",
     "text": [
      "Itération numéro 0\n",
      "Itération numéro 1\n",
      "Itération numéro 2\n",
      "Itération numéro 3\n",
      "Itération numéro 4\n"
     ]
    }
   ],
   "source": [
    "# Exemple de boucle for\n",
    "for i in range(5):\n",
    "    print(f\"Itération numéro {i}\")"
   ]
  },
  {
   "cell_type": "code",
   "execution_count": 7,
   "metadata": {},
   "outputs": [
    {
     "name": "stdout",
     "output_type": "stream",
     "text": [
      "Compteur: 0\n",
      "Compteur: 1\n",
      "Compteur: 2\n",
      "Compteur: 3\n",
      "Compteur: 4\n"
     ]
    }
   ],
   "source": [
    "# Exemple de boucle while\n",
    "compteur = 0\n",
    "while compteur < 5:\n",
    "    print(f\"Compteur: {compteur}\")\n",
    "    compteur += 1"
   ]
  },
  {
   "cell_type": "code",
   "execution_count": 45,
   "metadata": {},
   "outputs": [],
   "source": [
    "#Exercice : écrire une boucle qui compte jusqu'à 100, mais qui n'affiche que les dizaines\n"
   ]
  },
  {
   "cell_type": "markdown",
   "metadata": {},
   "source": [
    "## Fonctions en Python\n",
    "\n",
    "Une fonction est un bloc de code réutilisable qui permet d'accomplir une tâche spécifique."
   ]
  },
  {
   "cell_type": "code",
   "execution_count": 47,
   "metadata": {},
   "outputs": [
    {
     "name": "stdout",
     "output_type": "stream",
     "text": [
      "Bonjour, Alice !\n",
      "6\n"
     ]
    }
   ],
   "source": [
    "# Définir une fonction - ce bloc de code n'est que déclaratif, il n'est pas exécuté tout de suite\n",
    "def salut(nom):\n",
    "    return f\"Bonjour, {nom} !\"\n",
    "\n",
    "def autre_fonction(a, b, c):\n",
    "    return a+b+c\n",
    "\n",
    "# Appel de la fonction\n",
    "message = salut(\"Alice\") #- en appelant la fonction salut, le bloc déclaré au dessus est exécuté.\n",
    "print(message)\n",
    "print(autre_fonction(1,2,3))\n"
   ]
  },
  {
   "cell_type": "code",
   "execution_count": null,
   "metadata": {},
   "outputs": [],
   "source": [
    "# Exercice : écrire une fonction carte d'identité qui prend les paramètres prénom, nom, age, taille, adresses, date de naissance"
   ]
  }
 ],
 "metadata": {
  "kernelspec": {
   "display_name": "Python 3",
   "language": "python",
   "name": "python3"
  },
  "language_info": {
   "codemirror_mode": {
    "name": "ipython",
    "version": 3
   },
   "file_extension": ".py",
   "mimetype": "text/x-python",
   "name": "python",
   "nbconvert_exporter": "python",
   "pygments_lexer": "ipython3",
   "version": "3.12.3"
  }
 },
 "nbformat": 4,
 "nbformat_minor": 2
}
