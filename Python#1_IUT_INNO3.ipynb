{
 "cells": [
  {
   "cell_type": "markdown",
   "metadata": {},
   "source": [
    "## Qu'est-ce que la programmation ?\n",
    "\n",
    "La programmation consiste à écrire des instructions pour qu'un ordinateur effectue des tâches spécifiques. Ces instructions sont écrites dans des langages de programmation, qui sont des systèmes de communication entre l’humain et la machine.\n",
    "\n",
    "Un programme est une suite d’instructions que l’ordinateur va exécuter dans un ordre logique pour résoudre un problème ou accomplir une tâche.\n",
    "\n",
    "Les programmes informatiques permettent de :\n",
    "- Automatiser des tâches répétitives,\n",
    "- Traiter des données (comme des textes, des nombres, des images, etc.),\n",
    "- Communiquer avec des services en ligne (API),\n",
    "- Manipuler des fichiers et des systèmes d’information.\n",
    "\n",
    "Les langages de programmation permettent aux programmeurs de s'abstraire de la complexité du matériel informatique et d'écrire du code de manière plus lisible et productive. Parmi les langages les plus connus, on peut citer Python, C, Java, JavaScript, et bien d'autres.\n",
    "\n",
    "### Langages de programmation\n",
    "\n",
    "Les langages de programmation peuvent se diviser en plusieurs catégories, dont :\n",
    "- **Langages de bas niveau** : proches du matériel, comme l'assembleur.\n",
    "- **Langages de haut niveau** : plus abstraits, faciles à lire et à comprendre pour les humains (comme Python, Java, ou C++).\n",
    "\n",
    "Les langages de programmation se différencient aussi selon la manière dont ils sont exécutés par la machine. Deux grandes catégories se distinguent : les langages **compilés** et les langages **interprétés**.\n"
   ]
  },
  {
   "cell_type": "markdown",
   "metadata": {},
   "source": [
    "## Langages compilés vs Langages interprétés\n",
    "\n",
    "Lorsque nous écrivons un programme, l'ordinateur ne peut pas comprendre directement les instructions que nous avons écrites en tant que développeur. Il a besoin de les traduire en instructions que le processeur peut exécuter (du langage machine, composé de 0 et de 1).\n",
    "\n",
    "### Langages compilés\n",
    "\n",
    "Les **langages compilés** nécessitent un processus de compilation avant de pouvoir être exécutés. Cela signifie que le programme est converti une seule fois en un fichier exécutable binaire (.exe, .out, etc.) que l'ordinateur peut comprendre directement. Une fois compilé, ce fichier exécutable peut être lancé sans avoir besoin de l'outil de compilation.\n",
    "\n",
    "**Exemples de langages compilés :**\n",
    "- C\n",
    "- C++\n",
    "- Go\n",
    "- Rust\n",
    "\n",
    "**Avantages des langages compilés :**\n",
    "- Les programmes compilés sont généralement plus rapides à l'exécution, car ils sont directement convertis en code machine.\n",
    "- Le programme n’a plus besoin du compilateur pour être exécuté, ce qui facilite la distribution d’une application (un fichier exécutable est suffisant).\n",
    "\n",
    "**Inconvénients :**\n",
    "- Chaque modification du code nécessite une recompilation.\n",
    "- Il peut être plus complexe de déboguer le code une fois compilé.\n",
    "\n",
    "### Langages interprétés\n",
    "\n",
    "Les **langages interprétés** sont exécutés ligne par ligne par un interpréteur, sans passer par une phase de compilation préalable. Lorsque vous lancez un programme écrit dans un langage interprété, l’interpréteur lit chaque ligne du code, la traduit en instructions machine, et l'exécute immédiatement.\n",
    "\n",
    "**Exemples de langages interprétés :**\n",
    "- Python\n",
    "- JavaScript\n",
    "- PHP\n",
    "- Ruby\n",
    "\n",
    "**Avantages des langages interprétés :**\n",
    "- Ils sont généralement plus simples à tester et à déboguer, car les modifications sont exécutées directement sans besoin de recompilation.\n",
    "- Ils sont souvent plus flexibles et adaptés à des tâches rapides de prototypage et de développement.\n",
    "\n",
    "**Inconvénients :**\n",
    "- Les programmes interprétés peuvent être plus lents que les programmes compilés, car la traduction en code machine est effectuée à la volée (pendant l'exécution).\n",
    "- Ils nécessitent la présence de l’interpréteur sur la machine qui exécute le programme.\n",
    "\n",
    "### Le cas de Python\n",
    "\n",
    "Python est un **langage interprété**, ce qui signifie qu'il n'y a pas de compilation préalable pour générer un fichier exécutable. À chaque fois que vous exécutez un script Python, l'interpréteur Python lit et exécute directement le code ligne par ligne. Cela permet de modifier rapidement le code et de tester des fonctionnalités sans avoir à recompiler le programme à chaque modification.\n",
    "\n",
    "En revanche, cela peut rendre Python un peu plus lent que certains langages compilés comme le C ou le C++. Cependant, sa simplicité, sa lisibilité, et sa large bibliothèque d'outils le rendent très populaire dans de nombreux domaines, notamment la gestion de données, le développement web, et l'automatisation des tâches.\n"
   ]
  },
  {
   "cell_type": "markdown",
   "metadata": {},
   "source": [
    "## Conclusion\n",
    "\n",
    "En résumé, les **langages compilés** traduisent le code source en code machine une seule fois, tandis que les **langages interprétés** traduisent le code au moment de l'exécution, ligne par ligne. Python, que nous allons utiliser dans cette formation, est un langage interprété, ce qui en fait un excellent choix pour des projets où la rapidité de développement, la simplicité, et la flexibilité sont des priorités.\n"
   ]
  },
  {
   "cell_type": "markdown",
   "metadata": {},
   "source": [
    "# Séance 1 : Introduction à Python et Manipulation des données\n",
    "Ce notebook vous guidera à travers les bases du langage Python et quelques exemples pratiques sur la manipulation de fichiers. À la fin de cette séance, vous serez capable de :\n",
    "- Comprendre les structures de base en Python (variables, conditions, boucles).\n",
    "- Manipuler des fichiers texte et CSV pour extraire et traiter des données.\n"
   ]
  },
  {
   "cell_type": "markdown",
   "metadata": {},
   "source": [
    "## Installation et prise en main de Python\n",
    "\n",
    "Avant de commencer à utiliser Python, vous pouvez installer les outils suivants si ce n'est pas déjà fait :\n",
    "- [Python](https://www.python.org/downloads/)\n",
    "- [Jupyter Notebook](https://jupyter.org/install)\n",
    "\n",
    "Nous utiliserons ce notebook pour exécuter nos scripts Python.\n"
   ]
  },
  {
   "cell_type": "markdown",
   "metadata": {},
   "source": [
    "## Variables et Types de données\n",
    "\n",
    "En Python, une variable est un espace mémoire où vous pouvez stocker une valeur. Vous pouvez stocker différents types de données dans des variables."
   ]
  },
  {
   "cell_type": "code",
   "execution_count": 1,
   "metadata": {},
   "outputs": [
    {
     "name": "stdout",
     "output_type": "stream",
     "text": [
      "Alice\n",
      "25\n",
      "3.14159\n"
     ]
    }
   ],
   "source": [
    "# Variables simples\n",
    "prenom = \"Alice\"\n",
    "age = 25\n",
    "pi = 3.14159\n",
    "\n",
    "print(prenom)\n",
    "print(age)\n",
    "print(pi)\n"
   ]
  },
  {
   "cell_type": "code",
   "execution_count": 2,
   "metadata": {},
   "outputs": [
    {
     "name": "stdout",
     "output_type": "stream",
     "text": [
      "<class 'int'> <class 'float'> <class 'str'> <class 'bool'>\n"
     ]
    }
   ],
   "source": [
    "# Entier\n",
    "nombre = 10\n",
    "# Flottant\n",
    "flottant = 10.5\n",
    "# Chaîne de caractères\n",
    "texte = \"Bonjour\"\n",
    "# Booléen\n",
    "vrai_ou_faux = True\n",
    "\n",
    "print(type(nombre), type(flottant), type(texte), type(vrai_ou_faux))"
   ]
  },
  {
   "cell_type": "code",
   "execution_count": 4,
   "metadata": {},
   "outputs": [],
   "source": [
    "#Exercice : écrire les variables nécessaires pour afficher votre carte d'identité sous forme de texte : prénom, nom, date de naissance, ville de naissance, taille, adresse\n"
   ]
  },
  {
   "cell_type": "markdown",
   "metadata": {},
   "source": [
    "## Opérations sur les variables\n",
    "\n",
    "Des opérateurs spécifiques sont disponibles en fonction des types de variables."
   ]
  },
  {
   "cell_type": "code",
   "execution_count": 54,
   "metadata": {},
   "outputs": [
    {
     "name": "stdout",
     "output_type": "stream",
     "text": [
      "Opérations sur les types numériques entiers\n",
      "3\n",
      "1\n",
      "4\n",
      "8\n",
      "1.0\n",
      "0\n",
      "Opérations sur les types numériques flottants\n",
      "2.69\n",
      "-0.22199999999999998\n",
      "8.377626\n",
      "1.8790809039999998\n",
      "10.032520325203253\n",
      "1.234\n",
      "Opérations sur les types numériques booléens\n",
      "True\n",
      "False\n",
      "True\n",
      "True\n",
      "False\n",
      "True\n"
     ]
    }
   ],
   "source": [
    "# Opérateurs mathématiques sur les types numériques : entiers, flottants.\n",
    "entier = 2\n",
    "flottant = 1.234\n",
    "\n",
    "print(\"Opérations sur les types numériques entiers\")\n",
    "\n",
    "print(entier + 1)   #addition\n",
    "print(entier - 1)   #soustraction\n",
    "print(entier * 2)   #multiplication\n",
    "print(entier ** 3)   #puissance\n",
    "print(entier / 2)   #division\n",
    "print(entier % 2)   #modulo : reste de la division euclidienne\n",
    "\n",
    "print(\"Opérations sur les types numériques flottants\")\n",
    "print(flottant + 1.456)\n",
    "print(flottant - 1.456)\n",
    "print(flottant * 6.789)\n",
    "print(flottant ** 3)   #puissance\n",
    "print(flottant / 0.123)\n",
    "print(flottant % 4)   #modulo : reste de la division euclidienne\n",
    "\n",
    "print(\"Opérations sur les types numériques booléens\")\n",
    "print(vrai_ou_faux & True)  # opérateur booléen et logique\n",
    "print(vrai_ou_faux & False) # opérateur booléen et logique\n",
    "print(vrai_ou_faux | False) # opérateur booléen ou logique\n",
    "print(vrai_ou_faux | True) # opérateur booléen ou logique\n",
    "print(vrai_ou_faux ^ True) # opérateur booléen ou exclusif logique\n",
    "print(vrai_ou_faux ^ False) # opérateur booléen ou exclusif logique\n"
   ]
  },
  {
   "cell_type": "code",
   "execution_count": 41,
   "metadata": {},
   "outputs": [
    {
     "name": "stdout",
     "output_type": "stream",
     "text": [
      " \n",
      " \n",
      " \n",
      "0\n",
      "-1\n",
      "* *\n",
      "  a 0 ans\n"
     ]
    }
   ],
   "source": [
    "# Opérateurs mathématiques sur les types chaînes de caractères : string\n",
    "\n",
    "# Entrez vos prénom, nom et âge ici\n",
    "prenom = ''\n",
    "nom = ''\n",
    "age = 0\n",
    "\n",
    "concatenation = prenom + ' ' + nom\n",
    "print(concatenation)\n",
    "\n",
    "#Méthodes sur les strings :\n",
    "# voir par exemple https://www.w3schools.com/python/python_ref_string.asp\n",
    "\n",
    "print(concatenation.replace('r', 'l'))\n",
    "print(concatenation.upper())\n",
    "print(concatenation.count('e'))\n",
    "print(concatenation.find('M'))\n",
    "print(concatenation.join('**'))\n",
    "\n",
    "print(concatenation + ' a ' + str(age) + ' ans')"
   ]
  },
  {
   "cell_type": "markdown",
   "metadata": {},
   "source": [
    "## Conditions et Boucles\n",
    "\n",
    "Les conditions permettent d'exécuter du code seulement si certaines conditions sont remplies. Les boucles permettent de répéter des instructions plusieurs fois.\n"
   ]
  },
  {
   "cell_type": "code",
   "execution_count": 5,
   "metadata": {},
   "outputs": [
    {
     "name": "stdout",
     "output_type": "stream",
     "text": [
      "x est plus grand que 5\n"
     ]
    }
   ],
   "source": [
    "# Exemple de condition\n",
    "x = 10\n",
    "if x > 5:\n",
    "    print(\"x est plus grand que 5\")\n",
    "else:\n",
    "    print(\"x est plus petit ou égal à 5\")\n"
   ]
  },
  {
   "cell_type": "code",
   "execution_count": null,
   "metadata": {},
   "outputs": [],
   "source": [
    "# Comparaison de deux chaînes de caractères\n",
    "nom_utilisateur = \"Alice\"\n",
    "\n",
    "if nom_utilisateur == \"Alice\":\n",
    "    print(\"Bienvenue Alice !\")\n",
    "else:\n",
    "    print(\"Vous n'êtes pas Alice.\")\n"
   ]
  },
  {
   "cell_type": "code",
   "execution_count": null,
   "metadata": {},
   "outputs": [],
   "source": [
    "# Vérifier si une chaîne commence ou se termine par un certain texte\n",
    "nom_fichier = \"rapport.pdf\"\n",
    "\n",
    "if nom_fichier.endswith(\".pdf\"):\n",
    "    print(\"C'est un fichier PDF.\")\n",
    "else:\n",
    "    print(\"Ce n'est pas un fichier PDF.\")\n"
   ]
  },
  {
   "cell_type": "code",
   "execution_count": null,
   "metadata": {},
   "outputs": [],
   "source": [
    "# Utiliser 'in' pour vérifier la présence d'une sous-chaîne\n",
    "email = \"alice@example.com\"\n",
    "\n",
    "if \"@\" in email:\n",
    "    print(\"Il s'agit d'un email valide.\")\n",
    "else:\n",
    "    print(\"Ce n'est pas une adresse email valide.\")\n"
   ]
  },
  {
   "cell_type": "code",
   "execution_count": null,
   "metadata": {},
   "outputs": [],
   "source": [
    "# Vérifier si une chaîne est vide\n",
    "message = \"\"\n",
    "\n",
    "if not message:\n",
    "    print(\"Le message est vide.\")\n",
    "else:\n",
    "    print(\"Le message contient du texte.\")\n"
   ]
  },
  {
   "cell_type": "code",
   "execution_count": 87,
   "metadata": {},
   "outputs": [
    {
     "name": "stdout",
     "output_type": "stream",
     "text": [
      "Vous avez répondu 'oui'.\n"
     ]
    }
   ],
   "source": [
    "# Comparaison insensible à la casse\n",
    "reponse_utilisateur = \"OUI\"\n",
    "\n",
    "if reponse_utilisateur.lower() == \"oui\":\n",
    "    print(\"Vous avez répondu 'oui'.\")\n",
    "else:\n",
    "    print(\"Vous n'avez pas répondu 'oui'.\")\n"
   ]
  },
  {
   "cell_type": "code",
   "execution_count": 93,
   "metadata": {},
   "outputs": [
    {
     "name": "stdout",
     "output_type": "stream",
     "text": [
      "True\n",
      "La date est au bon format.\n"
     ]
    }
   ],
   "source": [
    "# Vérifier si une date est au format jj/mm/aaaa\n",
    "date = \"12/10/2024\"\n",
    "elements = date.split(\"/\")\n",
    "\n",
    "if len(elements) == 3 and all(elem.isdigit() for elem in elements):  ## !!! attention : ici il y a une boucle dans un test : écrire réduite, on dit que c'est pythonic !!!\n",
    "    print(\"La date est au bon format.\")\n",
    "else:\n",
    "    print(\"Le format de la date est incorrect.\")\n"
   ]
  },
  {
   "cell_type": "code",
   "execution_count": 98,
   "metadata": {},
   "outputs": [
    {
     "name": "stdout",
     "output_type": "stream",
     "text": [
      "True\n",
      "False\n",
      "[True, True, True]\n",
      "True\n",
      "False\n"
     ]
    }
   ],
   "source": [
    "#explication de \n",
    "all(elem.isdigit() for elem in elements)\n",
    "\n",
    "print(\"123\".isdigit())  # True, car tous les caractères sont des chiffres\n",
    "print(\"12a3\".isdigit())  # False, car \"a\" n'est pas un chiffre\n",
    "\n",
    "elements = [\"123\", \"456\", \"789\"]\n",
    "\n",
    "resultat = (elem.isdigit() for elem in elements)\n",
    "print(list(resultat))\n",
    "\n",
    "print(all([True, True, True]))  # True\n",
    "print(all([True, False, True]))  # False, car il y a au moins un False\n"
   ]
  },
  {
   "cell_type": "code",
   "execution_count": 88,
   "metadata": {},
   "outputs": [
    {
     "name": "stdout",
     "output_type": "stream",
     "text": [
      "La phrase contient plus de 3 mots.\n"
     ]
    }
   ],
   "source": [
    "# Compter le nombre de mots dans une phrase\n",
    "phrase = \"Python est un langage puissant.\"\n",
    "\n",
    "mots = phrase.split()\n",
    "if len(mots) > 3:\n",
    "    print(\"La phrase contient plus de 3 mots.\")\n",
    "else:\n",
    "    print(\"La phrase contient 3 mots ou moins.\")\n"
   ]
  },
  {
   "cell_type": "code",
   "execution_count": 86,
   "metadata": {},
   "outputs": [
    {
     "name": "stdout",
     "output_type": "stream",
     "text": [
      "Le code postal est valide.\n"
     ]
    }
   ],
   "source": [
    "# Vérifier si une chaîne est composée uniquement de chiffres\n",
    "code_postal = \"75001\"\n",
    "\n",
    "if code_postal.isdigit():\n",
    "    print(\"Le code postal est valide.\")\n",
    "else:\n",
    "    print(\"Le code postal contient des caractères non numériques.\")\n"
   ]
  },
  {
   "cell_type": "code",
   "execution_count": 85,
   "metadata": {},
   "outputs": [
    {
     "name": "stdout",
     "output_type": "stream",
     "text": [
      "Le mot de passe est sécurisé.\n"
     ]
    }
   ],
   "source": [
    "# Vérifier plusieurs critères avec 'and' et 'or'\n",
    "mot_de_passe = \"Secret123\"\n",
    "\n",
    "if len(mot_de_passe) >= 8 and any(char.isdigit() for char in mot_de_passe):\n",
    "    print(\"Le mot de passe est sécurisé.\")\n",
    "else:\n",
    "    print(\"Le mot de passe est trop faible.\")\n"
   ]
  },
  {
   "cell_type": "code",
   "execution_count": 6,
   "metadata": {},
   "outputs": [
    {
     "name": "stdout",
     "output_type": "stream",
     "text": [
      "Itération numéro 0\n",
      "Itération numéro 1\n",
      "Itération numéro 2\n",
      "Itération numéro 3\n",
      "Itération numéro 4\n"
     ]
    }
   ],
   "source": [
    "# Exemple de boucle for\n",
    "for i in range(5):\n",
    "    print(f\"Itération numéro {i}\")"
   ]
  },
  {
   "cell_type": "code",
   "execution_count": 7,
   "metadata": {},
   "outputs": [
    {
     "name": "stdout",
     "output_type": "stream",
     "text": [
      "Compteur: 0\n",
      "Compteur: 1\n",
      "Compteur: 2\n",
      "Compteur: 3\n",
      "Compteur: 4\n"
     ]
    }
   ],
   "source": [
    "# Exemple de boucle while\n",
    "compteur = 0\n",
    "while compteur < 5:\n",
    "    print(f\"Compteur: {compteur}\")\n",
    "    compteur += 1"
   ]
  },
  {
   "cell_type": "code",
   "execution_count": 45,
   "metadata": {},
   "outputs": [],
   "source": [
    "#Exercice : écrire une boucle qui compte jusqu'à 100, mais qui n'affiche que les dizaines\n"
   ]
  },
  {
   "cell_type": "markdown",
   "metadata": {},
   "source": [
    "## Fonctions en Python\n",
    "\n",
    "Une fonction est un bloc de code réutilisable qui permet d'accomplir une tâche spécifique."
   ]
  },
  {
   "cell_type": "code",
   "execution_count": 47,
   "metadata": {},
   "outputs": [
    {
     "name": "stdout",
     "output_type": "stream",
     "text": [
      "Bonjour, Alice !\n",
      "6\n"
     ]
    }
   ],
   "source": [
    "# Définir une fonction - ce bloc de code n'est que déclaratif, il n'est pas exécuté tout de suite\n",
    "def salut(nom):\n",
    "    return f\"Bonjour, {nom} !\"\n",
    "\n",
    "def autre_fonction(a, b, c):\n",
    "    return a+b+c\n",
    "\n",
    "# Appel de la fonction\n",
    "message = salut(\"Alice\") #- en appelant la fonction salut, le bloc déclaré au dessus est exécuté.\n",
    "print(message)\n",
    "print(autre_fonction(1,2,3))\n"
   ]
  },
  {
   "cell_type": "markdown",
   "metadata": {},
   "source": [
    "### Exercice : écrire et appeler une fonction carte d'identité qui prend les paramètres prénom, nom, age, taille, adresses, date de naissance\n",
    "\n",
    "### Exercice : écrire et appeler une fonction qui prend deux paramètres entier (max et pas) qui compte jusqu'à une valeur max et n'affiche que les nombres correspondant aux pas donné"
   ]
  },
  {
   "cell_type": "markdown",
   "metadata": {},
   "source": [
    "## Manipulation de fichiers texte\n",
    "\n",
    "Il est possible d'ouvrir, lire et écrire dans des fichiers avec Python. Cela peut être très utile pour traiter des informations textuelles."
   ]
  },
  {
   "cell_type": "code",
   "execution_count": 83,
   "metadata": {},
   "outputs": [
    {
     "name": "stdout",
     "output_type": "stream",
     "text": [
      "\n",
      "From: alice@example.com\n",
      "To: bob@example.com\n",
      "Subject: Réunion de projet\n",
      "Date: 01/10/2024\n",
      "\n",
      "Bonjour Bob,\n",
      "\n",
      "Je te confirme que la réunion de projet aura lieu ce vendredi à 10h. Merci de préparer le rapport de la semaine dernière.\n",
      "\n",
      "Cordialement,\n",
      "Alice\n",
      "\n",
      "---\n",
      "\n",
      "From: charles@example.com\n",
      "To: team@example.com\n",
      "Subject: Mise à jour du planning - important\n",
      "Date: 02/10/2024\n",
      "\n",
      "Bonjour à tous,\n",
      "\n",
      "Voici le planning mis à jour pour le mois d'octobre. N'hésitez pas à me faire part de vos disponibilités.\n",
      "\n",
      "Bien à vous,\n",
      "Charles\n",
      "\n",
      "---\n",
      "\n",
      "From: eve@example.com\n",
      "To: alice@example.com\n",
      "Subject: Question sur le rapport\n",
      "Date: 03/10/2024\n",
      "\n",
      "Salut Alice,\n",
      "\n",
      "Peux-tu m'envoyer les données du dernier rapport d'activité ? J'aimerais les inclure dans ma présentation.\n",
      "\n",
      "Merci,\n",
      "Eve\n",
      "\n",
      "---\n",
      "\n",
      "From: marketing@example.com\n",
      "To: all@example.com\n",
      "Subject: Offre spéciale de formation interne\n",
      "Date: 04/10/2024\n",
      "\n",
      "Chers collègues,\n",
      "\n",
      "Nous avons le plaisir de vous annoncer une nouvelle offre de formation interne sur les outils numériques. Inscrivez-vous rapidement !\n",
      "\n",
      "Cordialement,\n",
      "L'équipe marketing\n",
      "\n",
      "---\n",
      "\n",
      "From: david@example.com\n",
      "To: support@example.com\n",
      "Subject: Problème d'accès à la plateforme\n",
      "Date: 05/10/2024\n",
      "\n",
      "Bonjour,\n",
      "\n",
      "Je rencontre un problème pour accéder à la plateforme. Un message d'erreur apparaît à chaque tentative de connexion. Pouvez-vous m'aider à résoudre ce souci ? C'est important !\n",
      "\n",
      "Merci d'avance,\n",
      "David\n",
      "\n"
     ]
    }
   ],
   "source": [
    "# Lecture d'un fichier texte en entier\n",
    "with open('mails_examples.txt', 'r') as fichier:\n",
    "    contenu = fichier.read()\n",
    "    print(contenu)"
   ]
  },
  {
   "cell_type": "code",
   "execution_count": 84,
   "metadata": {},
   "outputs": [
    {
     "name": "stdout",
     "output_type": "stream",
     "text": [
      "\n",
      "Lecture ligne par ligne :\n",
      "\n",
      "\n",
      "From: alice@example.com\n",
      "To: bob@example.com\n",
      "Subject: Réunion de projet\n",
      "Date: 01/10/2024\n",
      "\n",
      "Bonjour Bob,\n",
      "\n",
      "Je te confirme que la réunion de projet aura lieu ce vendredi à 10h. Merci de préparer le rapport de la semaine dernière.\n",
      "\n",
      "Cordialement,\n",
      "Alice\n",
      "\n",
      "---\n",
      "\n",
      "From: charles@example.com\n",
      "To: team@example.com\n",
      "Subject: Mise à jour du planning - important\n",
      "Date: 02/10/2024\n",
      "\n",
      "Bonjour à tous,\n",
      "\n",
      "Voici le planning mis à jour pour le mois d'octobre. N'hésitez pas à me faire part de vos disponibilités.\n",
      "\n",
      "Bien à vous,\n",
      "Charles\n",
      "\n",
      "---\n",
      "\n",
      "From: eve@example.com\n",
      "To: alice@example.com\n",
      "Subject: Question sur le rapport\n",
      "Date: 03/10/2024\n",
      "\n",
      "Salut Alice,\n",
      "\n",
      "Peux-tu m'envoyer les données du dernier rapport d'activité ? J'aimerais les inclure dans ma présentation.\n",
      "\n",
      "Merci,\n",
      "Eve\n",
      "\n",
      "---\n",
      "\n",
      "From: marketing@example.com\n",
      "To: all@example.com\n",
      "Subject: Offre spéciale de formation interne\n",
      "Date: 04/10/2024\n",
      "\n",
      "Chers collègues,\n",
      "\n",
      "Nous avons le plaisir de vous annoncer une nouvelle offre de formation interne sur les outils numériques. Inscrivez-vous rapidement !\n",
      "\n",
      "Cordialement,\n",
      "L'équipe marketing\n",
      "\n",
      "---\n",
      "\n",
      "From: david@example.com\n",
      "To: support@example.com\n",
      "Subject: Problème d'accès à la plateforme\n",
      "Date: 05/10/2024\n",
      "\n",
      "Bonjour,\n",
      "\n",
      "Je rencontre un problème pour accéder à la plateforme. Un message d'erreur apparaît à chaque tentative de connexion. Pouvez-vous m'aider à résoudre ce souci ? C'est important !\n",
      "\n",
      "Merci d'avance,\n",
      "David\n"
     ]
    }
   ],
   "source": [
    "# Lecture ligne par ligne d'un fichier texte\n",
    "with open('mails_examples.txt', 'r') as fichier:\n",
    "    print(\"\\nLecture ligne par ligne :\\n\")\n",
    "    for ligne in fichier:\n",
    "        # Supprimer les espaces en début/fin de ligne, y compris les retours à la ligne\n",
    "        ligne = ligne.strip()\n",
    "        print(ligne)\n"
   ]
  },
  {
   "cell_type": "code",
   "execution_count": 77,
   "metadata": {},
   "outputs": [],
   "source": [
    "# Écriture dans un fichier texte\n",
    "with open('nouveau_fichier.txt', 'w') as fichier:\n",
    "    fichier.write(\"Ceci est une nouvelle ligne dans le fichier.\\n\")"
   ]
  },
  {
   "cell_type": "markdown",
   "metadata": {},
   "source": [
    "## Manipulation de fichiers CSV\n",
    "\n",
    "Les fichiers CSV (Comma Separated Values) sont couramment utilisés pour stocker des données tabulaires. Nous utiliserons la bibliothèque `csv` de Python pour lire et écrire ces fichiers."
   ]
  },
  {
   "cell_type": "code",
   "execution_count": 64,
   "metadata": {},
   "outputs": [
    {
     "name": "stdout",
     "output_type": "stream",
     "text": [
      "['Expéditeur', 'Destinataire', 'Date', 'Sujet', 'Message']\n",
      "['alice@example.com', 'bob@example.com', '01/10/2024', 'Réunion de projet', 'Bonjour Bob,\\n\\nJe te confirme que la réunion de projet aura lieu ce vendredi à 10h. Merci de préparer le rapport de la semaine dernière.\\n\\nCordialement,\\nAlice']\n",
      "['charles@example.com', 'team@example.com', '02/10/2024', 'Mise à jour du planning', \"Bonjour à tous,\\n\\nVoici le planning mis à jour pour le mois d'octobre. N'hésitez pas à me faire part de vos disponibilités.\\n\\nBien à vous,\\nCharles\"]\n",
      "['eve@example.com', 'alice@example.com', '03/10/2024', 'Question sur le rapport', \"Salut Alice,\\n\\nPeux-tu m'envoyer les données du dernier rapport d'activité ? J'aimerais les inclure dans ma présentation.\\n\\nMerci,\\nEve\"]\n",
      "['marketing@example.com', 'all@example.com', '04/10/2024', 'Offre spéciale de formation interne', \"Chers collègues,\\n\\nNous avons le plaisir de vous annoncer une nouvelle offre de formation interne sur les outils numériques. Inscrivez-vous rapidement !\\n\\nCordialement,\\nL'équipe marketing\"]\n",
      "['david@example.com', 'support@example.com', '05/10/2024', \"Problème d'accès à la plateforme\", \"Bonjour,\\n\\nJe rencontre un problème pour accéder à la plateforme. Un message d'erreur apparaît à chaque tentative de connexion. Pouvez-vous m'aider à résoudre ce souci ?\\n\\nMerci d'avance,\\nDavid\"]\n"
     ]
    }
   ],
   "source": [
    "import csv\n",
    "\n",
    "# Lecture d'un fichier CSV\n",
    "with open('csv/mails.csv', 'r') as fichier_csv:\n",
    "    lecteur_csv = csv.reader(fichier_csv)\n",
    "    for ligne in lecteur_csv:\n",
    "        print(ligne)"
   ]
  },
  {
   "cell_type": "code",
   "execution_count": 67,
   "metadata": {},
   "outputs": [],
   "source": [
    "# Écriture dans un fichier CSV\n",
    "with open('csv/nouveau_fichier.csv', 'w', newline='') as fichier_csv:\n",
    "    ecrivain_csv = csv.writer(fichier_csv)\n",
    "    ecrivain_csv.writerow(['nom', 'age', 'ville'])\n",
    "    ecrivain_csv.writerow(['Alice', 25, 'Paris'])\n"
   ]
  },
  {
   "cell_type": "markdown",
   "metadata": {},
   "source": [
    "### Exercice : Boucle et fichier texte\n",
    "\n",
    "Créez un programme qui lit le fichier texte mails_exemple.txt ligne par ligne et affiche chaque ligne à l'écran. Si le fichier contient le mot \"important\", affichez une alerte particulière.\n",
    "\n",
    "### Exercice : Manipulation de CSV\n",
    "\n",
    "Créez un programme qui lit un fichier CSV contenant une liste de produits (nom, prix, quantité) et qui calcule la valeur totale des stocks (prix * quantité)."
   ]
  },
  {
   "cell_type": "markdown",
   "metadata": {},
   "source": [
    "## Structures de données : les listes\n",
    "\n",
    "Les listes en Python sont des collections ordonnées qui peuvent contenir des éléments de différents types (entiers, chaînes, etc.). Elles sont modifiables (mutables)."
   ]
  },
  {
   "cell_type": "code",
   "execution_count": 69,
   "metadata": {},
   "outputs": [
    {
     "name": "stdout",
     "output_type": "stream",
     "text": [
      "pomme\n",
      "['pomme', 'fraise', 'orange']\n",
      "['pomme', 'fraise', 'orange', 'cerise']\n",
      "['pomme', 'orange', 'cerise']\n",
      "['cerise', 'orange', 'pomme']\n",
      "3\n"
     ]
    }
   ],
   "source": [
    "# Exemple : Créer une liste\n",
    "fruits = [\"pomme\", \"banane\", \"orange\"]\n",
    "\n",
    "# Accéder à un élément par son index\n",
    "print(fruits[0])  # Affiche \"pomme\"\n",
    "\n",
    "# Modifier un élément\n",
    "fruits[1] = \"fraise\"\n",
    "print(fruits)  # Affiche [\"pomme\", \"fraise\", \"orange\"]\n",
    "\n",
    "# Ajouter un élément à la fin de la liste\n",
    "fruits.append(\"cerise\")\n",
    "print(fruits)  # Affiche [\"pomme\", \"fraise\", \"orange\", \"cerise\"]\n",
    "\n",
    "# Supprimer un élément de la liste\n",
    "fruits.remove(\"fraise\")\n",
    "print(fruits)  # Affiche [\"pomme\", \"orange\", \"cerise\"]\n",
    "\n",
    "# Trier la liste\n",
    "fruits.sort()\n",
    "print(fruits)  # Affiche [\"cerise\", \"orange\", \"pomme\"]\n",
    "\n",
    "# Obtenir la longueur de la liste\n",
    "print(len(fruits))  # Affiche 3\n"
   ]
  },
  {
   "cell_type": "markdown",
   "metadata": {},
   "source": [
    "## Structures de données : les dictionnaires\n",
    "\n",
    "Les dictionnaires sont des collections de paires clé-valeur. Chaque clé doit être unique, et elle est associée à une valeur. Ils sont également mutables."
   ]
  },
  {
   "cell_type": "code",
   "execution_count": 70,
   "metadata": {},
   "outputs": [
    {
     "name": "stdout",
     "output_type": "stream",
     "text": [
      "15\n",
      "{'Alice': 15, 'Bob': 12, 'Charlie': 17, 'David': 14}\n",
      "{'Alice': 15, 'Bob': 13, 'Charlie': 17, 'David': 14}\n",
      "{'Alice': 15, 'Bob': 13, 'David': 14}\n",
      "Alice a obtenu 15\n",
      "Bob a obtenu 13\n",
      "David a obtenu 14\n"
     ]
    }
   ],
   "source": [
    "# Exemple : Créer un dictionnaire\n",
    "notes_etudiants = {\n",
    "    \"Alice\": 15,\n",
    "    \"Bob\": 12,\n",
    "    \"Charlie\": 17\n",
    "}\n",
    "\n",
    "# Accéder à une valeur par sa clé\n",
    "print(notes_etudiants[\"Alice\"])  # Affiche 15\n",
    "\n",
    "# Ajouter une nouvelle paire clé-valeur\n",
    "notes_etudiants[\"David\"] = 14\n",
    "print(notes_etudiants)  # Affiche {'Alice': 15, 'Bob': 12, 'Charlie': 17, 'David': 14}\n",
    "\n",
    "# Modifier une valeur\n",
    "notes_etudiants[\"Bob\"] = 13\n",
    "print(notes_etudiants)  # Affiche {'Alice': 15, 'Bob': 13, 'Charlie': 17, 'David': 14}\n",
    "\n",
    "# Supprimer un élément\n",
    "del notes_etudiants[\"Charlie\"]\n",
    "print(notes_etudiants)  # Affiche {'Alice': 15, 'Bob': 13, 'David': 14}\n",
    "\n",
    "# Boucler sur les clés et les valeurs\n",
    "for etudiant, note in notes_etudiants.items():\n",
    "    print(f\"{etudiant} a obtenu {note}\")\n"
   ]
  },
  {
   "cell_type": "markdown",
   "metadata": {},
   "source": [
    "## Structures de données : les tuples\n",
    "\n",
    "Les tuples sont similaires aux listes, mais ils sont immutables : une fois créés, leurs éléments ne peuvent pas être modifiés."
   ]
  },
  {
   "cell_type": "code",
   "execution_count": 71,
   "metadata": {},
   "outputs": [
    {
     "name": "stdout",
     "output_type": "stream",
     "text": [
      "10\n",
      "20\n",
      "x = 10, y = 20\n"
     ]
    }
   ],
   "source": [
    "# Exemple : Créer un tuple\n",
    "coordonnees = (10, 20)\n",
    "\n",
    "# Accéder aux éléments d'un tuple\n",
    "print(coordonnees[0])  # Affiche 10\n",
    "print(coordonnees[1])  # Affiche 20\n",
    "\n",
    "# Les tuples sont immuables : essayer de modifier un élément provoque une erreur\n",
    "# coordonnees[0] = 30  # Provoquera une erreur\n",
    "\n",
    "# Utilité des tuples : affectation multiple\n",
    "x, y = coordonnees\n",
    "print(f\"x = {x}, y = {y}\")  # Affiche \"x = 10, y = 20\""
   ]
  },
  {
   "cell_type": "markdown",
   "metadata": {},
   "source": [
    "## Structures de données : les ensembles (sets)\n",
    "\n",
    "Les sets sont des collections non ordonnées d'éléments uniques. Ils sont utiles lorsque tu veux éviter les doublons ou effectuer des opérations ensemblistes (union, intersection)."
   ]
  },
  {
   "cell_type": "code",
   "execution_count": 72,
   "metadata": {},
   "outputs": [
    {
     "name": "stdout",
     "output_type": "stream",
     "text": [
      "{'pomme', 'orange', 'banane'}\n",
      "{'cerise', 'pomme', 'orange', 'banane'}\n",
      "{'cerise', 'pomme', 'orange'}\n",
      "{'orange'}\n",
      "{'pomme', 'kiwi', 'orange', 'fraise', 'cerise'}\n"
     ]
    }
   ],
   "source": [
    "# Exemple : Créer un set\n",
    "fruits = {\"pomme\", \"banane\", \"orange\", \"pomme\"}  # \"pomme\" est en double\n",
    "\n",
    "# Afficher le set\n",
    "print(fruits)  # Affiche {'orange', 'pomme', 'banane'} (pas de doublons et l'ordre peut varier)\n",
    "\n",
    "# Ajouter un élément\n",
    "fruits.add(\"cerise\")\n",
    "print(fruits)  # Affiche {'orange', 'pomme', 'banane', 'cerise'}\n",
    "\n",
    "# Supprimer un élément\n",
    "fruits.remove(\"banane\")\n",
    "print(fruits)  # Affiche {'orange', 'pomme', 'cerise'}\n",
    "\n",
    "# Opérations ensemblistes\n",
    "autres_fruits = {\"fraise\", \"orange\", \"kiwi\"}\n",
    "print(fruits.intersection(autres_fruits))  # Affiche {'orange'} (éléments communs)\n",
    "print(fruits.union(autres_fruits))  # Affiche l'union des deux sets\n"
   ]
  },
  {
   "cell_type": "markdown",
   "metadata": {},
   "source": [
    "## Structures de données : combinaisons de listes, dictionnaires, tuples\n",
    "\n"
   ]
  },
  {
   "cell_type": "code",
   "execution_count": 74,
   "metadata": {},
   "outputs": [],
   "source": [
    "# Créer une liste de dictionnaires contenant des informations sur des étudiants\n",
    "etudiants = [\n",
    "    {\"nom\": \"Alice\", \"age\": 22, \"note\": 15},\n",
    "    {\"nom\": \"Bob\", \"age\": 21, \"note\": 12},\n",
    "    {\"nom\": \"Charlie\", \"age\": 23, \"note\": 17}\n",
    "]"
   ]
  },
  {
   "cell_type": "markdown",
   "metadata": {},
   "source": [
    "## Boucle sur des structures de données"
   ]
  },
  {
   "cell_type": "code",
   "execution_count": 75,
   "metadata": {},
   "outputs": [
    {
     "name": "stdout",
     "output_type": "stream",
     "text": [
      "Alice a 22 ans et a obtenu la note 15\n",
      "Bob a 21 ans et a obtenu la note 12\n",
      "Charlie a 23 ans et a obtenu la note 17\n"
     ]
    }
   ],
   "source": [
    "# Boucler sur la liste pour afficher des informations\n",
    "for etudiant in etudiants:\n",
    "    print(f\"{etudiant['nom']} a {etudiant['age']} ans et a obtenu la note {etudiant['note']}\")"
   ]
  },
  {
   "cell_type": "markdown",
   "metadata": {},
   "source": [
    "## Input clavier\n",
    "La fonction input() attend que l'utilisateur saisisse une donnée au clavier et appuie sur Entrée. Elle renvoie ensuite cette donnée sous forme de chaîne de caractères (string)."
   ]
  },
  {
   "cell_type": "code",
   "execution_count": 99,
   "metadata": {},
   "outputs": [
    {
     "name": "stdout",
     "output_type": "stream",
     "text": [
      "Bonjour, Eric !\n"
     ]
    }
   ],
   "source": [
    "# Demander à l'utilisateur de saisir son nom\n",
    "nom = input(\"Entrez votre nom : \")\n",
    "print(\"Bonjour, \" + nom + \" !\")"
   ]
  },
  {
   "cell_type": "code",
   "execution_count": null,
   "metadata": {},
   "outputs": [],
   "source": [
    "# Demander à l'utilisateur d'entrer un nombre entier\n",
    "age = int(input(\"Entrez votre âge : \"))\n",
    "print(f\"Vous avez {age} ans.\")"
   ]
  },
  {
   "cell_type": "code",
   "execution_count": 100,
   "metadata": {},
   "outputs": [
    {
     "name": "stdout",
     "output_type": "stream",
     "text": [
      "Votre taille est de 150.0 m.\n"
     ]
    }
   ],
   "source": [
    "# Demander à l'utilisateur d'entrer un nombre flottant\n",
    "taille = float(input(\"Entrez votre taille en mètres : \"))\n",
    "print(f\"Votre taille est de {taille} m.\")"
   ]
  },
  {
   "cell_type": "markdown",
   "metadata": {},
   "source": [
    "# Introduction aux APIs et à HTTP\n",
    "\n",
    "Une API permet à deux systèmes d'échanger des informations à travers un réseau (généralement Internet). La communication se fait souvent via des requêtes HTTP. Il existe plusieurs types de requêtes HTTP, les plus courantes étant :\n",
    "\n",
    "GET : pour récupérer des données,\n",
    "POST : pour envoyer des données,\n",
    "PUT et DELETE : pour modifier ou supprimer des données.\n",
    "Lorsqu'on interagit avec une API, on envoie une requête HTTP (par exemple, une requête GET pour obtenir des informations), et l'API nous renvoie une réponse sous un format standard, souvent du JSON (JavaScript Object Notation)."
   ]
  },
  {
   "cell_type": "markdown",
   "metadata": {},
   "source": [
    "## Bibliothèque requests\n",
    "\n",
    "La bibliothèque Python requests permet d'envoyer facilement des requêtes HTTP. Si tu ne l'as pas déjà installée, tu peux le faire avec la commande :"
   ]
  },
  {
   "cell_type": "code",
   "execution_count": 102,
   "metadata": {},
   "outputs": [
    {
     "name": "stdout",
     "output_type": "stream",
     "text": [
      "\u001b[1;31merror\u001b[0m: \u001b[1mexternally-managed-environment\u001b[0m\n",
      "\n",
      "\u001b[31m×\u001b[0m This environment is externally managed\n",
      "\u001b[31m╰─>\u001b[0m To install Python packages system-wide, try apt install\n",
      "\u001b[31m   \u001b[0m python3-xyz, where xyz is the package you are trying to\n",
      "\u001b[31m   \u001b[0m install.\n",
      "\u001b[31m   \u001b[0m \n",
      "\u001b[31m   \u001b[0m If you wish to install a non-Debian-packaged Python package,\n",
      "\u001b[31m   \u001b[0m create a virtual environment using python3 -m venv path/to/venv.\n",
      "\u001b[31m   \u001b[0m Then use path/to/venv/bin/python and path/to/venv/bin/pip. Make\n",
      "\u001b[31m   \u001b[0m sure you have python3-full installed.\n",
      "\u001b[31m   \u001b[0m \n",
      "\u001b[31m   \u001b[0m If you wish to install a non-Debian packaged Python application,\n",
      "\u001b[31m   \u001b[0m it may be easiest to use pipx install xyz, which will manage a\n",
      "\u001b[31m   \u001b[0m virtual environment for you. Make sure you have pipx installed.\n",
      "\u001b[31m   \u001b[0m \n",
      "\u001b[31m   \u001b[0m See /usr/share/doc/python3.12/README.venv for more information.\n",
      "\n",
      "\u001b[1;35mnote\u001b[0m: If you believe this is a mistake, please contact your Python installation or OS distribution provider. You can override this, at the risk of breaking your Python installation or OS, by passing --break-system-packages.\n",
      "\u001b[1;36mhint\u001b[0m: See PEP 668 for the detailed specification.\n"
     ]
    }
   ],
   "source": [
    "!pip install requests"
   ]
  },
  {
   "cell_type": "markdown",
   "metadata": {},
   "source": [
    "## Exemple d'accès à une API \n",
    "\n",
    "Récupérer des données via une API publique.\n",
    "\n",
    "Pour cet exemple, nous allons utiliser une API simple qui fournit des informations factuelles sur des pays, via le service RestCountries. Voici l'URL de l'API :"
   ]
  },
  {
   "cell_type": "code",
   "execution_count": 104,
   "metadata": {},
   "outputs": [
    {
     "ename": "SyntaxError",
     "evalue": "invalid syntax (768463301.py, line 1)",
     "output_type": "error",
     "traceback": [
      "\u001b[0;36m  Cell \u001b[0;32mIn[104], line 1\u001b[0;36m\u001b[0m\n\u001b[0;31m    https://restcountries.com/v3.1/all\u001b[0m\n\u001b[0m          ^\u001b[0m\n\u001b[0;31mSyntaxError\u001b[0m\u001b[0;31m:\u001b[0m invalid syntax\n"
     ]
    }
   ],
   "source": [
    "https://restcountries.com/v3.1/all"
   ]
  },
  {
   "cell_type": "code",
   "execution_count": 105,
   "metadata": {},
   "outputs": [
    {
     "name": "stdout",
     "output_type": "stream",
     "text": [
      "Nom : South Georgia\n",
      "Population : 30\n",
      "Région : Antarctic\n",
      "Capitale : King Edward Point\n",
      "------------------------------\n",
      "Nom : Grenada\n",
      "Population : 112519\n",
      "Région : Americas\n",
      "Capitale : St. George's\n",
      "------------------------------\n",
      "Nom : Switzerland\n",
      "Population : 8654622\n",
      "Région : Europe\n",
      "Capitale : Bern\n",
      "------------------------------\n",
      "Nom : Sierra Leone\n",
      "Population : 7976985\n",
      "Région : Africa\n",
      "Capitale : Freetown\n",
      "------------------------------\n",
      "Nom : Hungary\n",
      "Population : 9749763\n",
      "Région : Europe\n",
      "Capitale : Budapest\n",
      "------------------------------\n"
     ]
    }
   ],
   "source": [
    "import requests\n",
    "\n",
    "# URL de l'API pour récupérer des informations sur tous les pays\n",
    "url = \"https://restcountries.com/v3.1/all\"\n",
    "\n",
    "# Faire la requête GET à l'API\n",
    "response = requests.get(url)\n",
    "\n",
    "# Vérifier que la requête a réussi (code 200)\n",
    "if response.status_code == 200:\n",
    "    # Récupérer les données au format JSON\n",
    "    data = response.json()\n",
    "    \n",
    "    # Afficher quelques informations sur les premiers pays\n",
    "    for country in data[:5]:  # On limite l'affichage aux 5 premiers pays\n",
    "        nom = country.get('name', {}).get('common', 'N/A')\n",
    "        population = country.get('population', 'N/A')\n",
    "        region = country.get('region', 'N/A')\n",
    "        capitale = country.get('capital', ['N/A'])[0]\n",
    "        \n",
    "        print(f\"Nom : {nom}\")\n",
    "        print(f\"Population : {population}\")\n",
    "        print(f\"Région : {region}\")\n",
    "        print(f\"Capitale : {capitale}\")\n",
    "        print(\"-\" * 30)\n",
    "else:\n",
    "    print(\"Erreur lors de la requête :\", response.status_code)\n"
   ]
  },
  {
   "cell_type": "markdown",
   "metadata": {},
   "source": [
    "## Format de la réponse (JSON)\n",
    "\n",
    "Le format JSON est une structure de données qui ressemble beaucoup à un dictionnaire Python. Voici un extrait de la réponse JSON de l'API restcountries pour un pays :"
   ]
  },
  {
   "cell_type": "markdown",
   "metadata": {},
   "source": [
    "{\n",
    "    \"name\": {\n",
    "        \"common\": \"France\",\n",
    "        \"official\": \"French Republic\"\n",
    "    },\n",
    "    \"capital\": [\"Paris\"],\n",
    "    \"region\": \"Europe\",\n",
    "    \"population\": 67391582\n",
    "}\n"
   ]
  },
  {
   "cell_type": "markdown",
   "metadata": {},
   "source": [
    "## Accéder à des données spécifiques\n",
    "\n",
    "Dans l'exemple, nous avons utilisé des clés comme 'name', 'population', et 'region' pour accéder aux données dans le dictionnaire JSON.\n",
    "\n",
    "Si une clé n'existe pas, nous avons utilisé .get() avec une valeur par défaut ('N/A') pour éviter une erreur."
   ]
  },
  {
   "cell_type": "markdown",
   "metadata": {},
   "source": [
    "## Traitement d'erreurs\n",
    "\n",
    "Il est important de vérifier le code de statut de la réponse HTTP :\n",
    "\n",
    "200 : Succès,\n",
    "404 : Ressource non trouvée,\n",
    "500 : Erreur interne du serveur."
   ]
  },
  {
   "cell_type": "markdown",
   "metadata": {},
   "source": [
    "## Autre exemple : requête sur une API météo\n",
    "\n",
    "Pour mettre en pratique, tu pourrais essayer de faire une requête à une API météo, par exemple l'API OpenWeatherMap (tu devras créer un compte gratuit pour obtenir une clé API)."
   ]
  },
  {
   "cell_type": "code",
   "execution_count": 108,
   "metadata": {},
   "outputs": [
    {
     "name": "stdout",
     "output_type": "stream",
     "text": [
      "Température actuelle : 18.4°C\n",
      "Vitesse du vent : 5.8 km/h\n",
      "Code météo : 3\n"
     ]
    },
    {
     "data": {
      "text/plain": [
       "{'temperature': 18.4, 'vent_vitesse': 5.8, 'condition': 3}"
      ]
     },
     "execution_count": 108,
     "metadata": {},
     "output_type": "execute_result"
    }
   ],
   "source": [
    "import requests\n",
    "\n",
    "def obtenir_meteo_open_meteo(latitude, longitude):\n",
    "    url = f\"https://api.open-meteo.com/v1/forecast?latitude={latitude}&longitude={longitude}&current_weather=true\"\n",
    "    \n",
    "    try:\n",
    "        response = requests.get(url)\n",
    "        response.raise_for_status()\n",
    "        data = response.json()\n",
    "        \n",
    "        meteo_actuelle = data.get(\"current_weather\", {})\n",
    "        temperature = meteo_actuelle.get(\"temperature\", \"N/A\")\n",
    "        vent_vitesse = meteo_actuelle.get(\"windspeed\", \"N/A\")\n",
    "        condition = meteo_actuelle.get(\"weathercode\", \"N/A\")\n",
    "        \n",
    "        print(f\"Température actuelle : {temperature}°C\")\n",
    "        print(f\"Vitesse du vent : {vent_vitesse} km/h\")\n",
    "        print(f\"Code météo : {condition}\")\n",
    "        \n",
    "        return {\n",
    "            \"temperature\": temperature,\n",
    "            \"vent_vitesse\": vent_vitesse,\n",
    "            \"condition\": condition\n",
    "        }\n",
    "    except requests.exceptions.RequestException as e:\n",
    "        print(f\"Erreur lors de la requête : {e}\")\n",
    "        return None\n",
    "\n",
    "obtenir_meteo_open_meteo(48.8566, 2.3522)"
   ]
  },
  {
   "cell_type": "markdown",
   "metadata": {},
   "source": [
    "# Exercice final : météo d'un lieu\n",
    "\n",
    "Saisie utilisateur : Demander à l'utilisateur d'entrer le nom d'une ville et un pays.\n",
    "\n",
    "Géocodage : Utiliser une API de géocodage pour obtenir les coordonnées géographiques (latitude et longitude) à partir du nom de la ville et du pays.\n",
    "\n",
    "Météo : Utiliser les coordonnées obtenues pour appeler l'API météo Open-Meteo (ou une autre API météo) et afficher les conditions météorologiques actuelles du lieu."
   ]
  },
  {
   "cell_type": "markdown",
   "metadata": {},
   "source": [
    "API utilisées :\n",
    "\n",
    "API de géocodage : Nous allons utiliser l'API OpenCage pour convertir une ville et un pays en latitude et longitude. (Elle nécessite une clé API gratuite, mais je vais aussi te montrer une alternative sans clé API pour cet exercice).\n",
    "\n",
    "API météo : Nous utiliserons l'API Open-Meteo (pas de clé API nécessaire)."
   ]
  },
  {
   "cell_type": "markdown",
   "metadata": {},
   "source": [
    "### Étape 1 : Géocodage avec Nominatim (obtenir latitude et longitude)\n",
    "\n",
    "L'API Nominatim permet de convertir un nom de lieu (ville + pays) en latitude et longitude.\n",
    "\n",
    "https://nominatim.openstreetmap.org/search?q=Paris,France&format=json&limit=1"
   ]
  },
  {
   "cell_type": "code",
   "execution_count": null,
   "metadata": {},
   "outputs": [],
   "source": [
    "import requests\n",
    "\n",
    "def obtenir_coordonnees(ville, pays):\n",
    "    url = f\"https://nominatim.openstreetmap.org/search?q={ville},{pays}&format=json&limit=1\"\n",
    "    \n",
    "    # Ajouter un en-tête 'User-Agent' pour se conformer aux règles de Nominatim\n",
    "    headers = {\n",
    "        'User-Agent': 'GeoCoderApp/1.0 (contact: your_email@example.com)'\n",
    "    }\n",
    "    \n",
    "    # à décommenter et à compléter\n",
    "    #try:\n",
    "\n",
    "    #except requests.exceptions.RequestException as e:\n",
    "        #print(f\"Erreur lors de la requête : {e}\")\n",
    "        #return None, None\n",
    "    "
   ]
  },
  {
   "cell_type": "markdown",
   "metadata": {},
   "source": [
    "### Étape 2 Utiliser l'API Open-Meteo pour obtenir la météo\n",
    "\n",
    "Une fois les coordonnées obtenues, nous pouvons utiliser l'API Open-Meteo pour obtenir les informations météorologiques du lieu."
   ]
  },
  {
   "cell_type": "code",
   "execution_count": null,
   "metadata": {},
   "outputs": [],
   "source": [
    "def obtenir_meteo_open_meteo(latitude, longitude):\n",
    "    url = f\"https://api.open-meteo.com/v1/forecast?latitude={latitude}&longitude={longitude}&current_weather=true\"\n",
    "    \n",
    "    # à décommenter et à compléter\n",
    "    #try:\n",
    "        #\n",
    "    #except requests.exceptions.RequestException as e:\n",
    "        #print(f\"Erreur lors de la requête : {e}\")\n",
    "        #return None\n"
   ]
  },
  {
   "cell_type": "markdown",
   "metadata": {},
   "source": [
    "### Étape 3 : Programme principal\n",
    "\n",
    "Le programme va demander à l'utilisateur de saisir une ville et un pays, puis obtenir les coordonnées géographiques à l'aide de Nominatim. Ensuite, il utilisera ces coordonnées pour appeler Open-Meteo et afficher la météo."
   ]
  },
  {
   "cell_type": "code",
   "execution_count": null,
   "metadata": {},
   "outputs": [],
   "source": [
    "def programme_principal_meteo():\n",
    "    print(\"Bienvenue dans l'application météo !\")\n",
    "    \n",
    "    while True:\n",
    "        # Demander à l'utilisateur d'entrer une ville et un pays\n",
    "        \n",
    "\n",
    "        # Étape 1 : Obtenir les coordonnées géographiques (latitude et longitude)\n",
    "        \n",
    "        if latitude is not None and longitude is not None:\n",
    "            # Étape 2 : Obtenir la météo avec Open-Meteo\n",
    "            \n",
    "        \n",
    "        # Demander si l'utilisateur veut faire une autre recherche\n",
    "        choix = input(\"\\nVoulez-vous rechercher une autre ville ? (oui/non) : \").lower()\n",
    "        if choix != \"oui\":\n",
    "            print(\"Au revoir !\")\n",
    "            break\n",
    "\n",
    "# Exécuter le programme\n",
    "programme_principal_meteo()\n"
   ]
  }
 ],
 "metadata": {
  "kernelspec": {
   "display_name": "Python 3",
   "language": "python",
   "name": "python3"
  },
  "language_info": {
   "codemirror_mode": {
    "name": "ipython",
    "version": 3
   },
   "file_extension": ".py",
   "mimetype": "text/x-python",
   "name": "python",
   "nbconvert_exporter": "python",
   "pygments_lexer": "ipython3",
   "version": "3.12.3"
  }
 },
 "nbformat": 4,
 "nbformat_minor": 2
}
