{
 "cells": [
  {
   "cell_type": "markdown",
   "metadata": {
    "id": "RKqUpvMCfjfY"
   },
   "source": [
    "# Contrôles des connaissances n° 1\n",
    "\n",
    "Il s'agira de lire le fichier notes_etudiants.csv dans le répertoire csv. Celui-ci contient la structure suivante : Nom,Prénom,Note\n",
    "Le fichier est à récupérer ici : https://raw.githubusercontent.com/ericmermet/python-iut/refs/heads/main/csv/notes_etudiants.csv\n",
    "et à placer dans les fichiers accessibles dans Google Colab\n",
    "\n",
    "Ecrire le code nécessaires pour afficher les résultats suivants :\n",
    "- Le nombre total de notes.\n",
    "- La note moyenne.\n",
    "- La note maximale et la note minimale.\n",
    "- Le nombre de notes au-dessus de la moyenne.\n",
    "\n",
    "- Bonus : les noms et prénoms des étudiants qui ont eu les notes maximale et minimale.\n",
    "\n",
    "\n",
    "Pour finir : Fichier/Télécharger (au format) ipynb, à envoyer à eric.mermet@tse-fr.eu\n",
    "\n",
    "Ajouter un bloc de texte ci-dessous qui contiendra vos noms, prénoms."
   ]
  },
  {
   "cell_type": "markdown",
   "metadata": {
    "id": "bH4wjZ-fuyWB"
   },
   "source": [
    "Nom / Prénom"
   ]
  },
  {
   "cell_type": "code",
   "execution_count": 9,
   "metadata": {
    "colab": {
     "base_uri": "https://localhost:8080/",
     "height": 0
    },
    "id": "GEYnlny-fjfd",
    "outputId": "368f9dfd-a640-4fef-93d8-747000c048a2"
   },
   "outputs": [
    {
     "name": "stdout",
     "output_type": "stream",
     "text": [
      "Le nombre de notes dans le fichier est de : 8 notes\n",
      "La sommes des notes est : 101.0\n",
      "La moyenne des notes est de : 12.625\n"
     ]
    }
   ],
   "source": [
    "#######################\n",
    "## Squelette de code ##\n",
    "#######################\n",
    "\n",
    "# Faire les imports nécessaires\n",
    "import csv\n",
    "\n",
    "# Définir les variables nécessaires\n",
    "nb_notes = 0\n",
    "somme_notes = 0\n",
    "\n",
    "# Ecrire le programme principal\n",
    "# Lire le fichier csv\n",
    "\n",
    "with open('notes_etudiants.csv', 'r') as fichier_csv:\n",
    "    lecteur_csv = csv.reader(fichier_csv)\n",
    "    for ligne in lecteur_csv:\n",
    "\n",
    "        nb_notes = nb_notes + 1\n",
    "        if(ligne[0] != \"Nom\"):\n",
    "\n",
    "          somme_notes = somme_notes + float(ligne[2])\n",
    "\n",
    "    # Pendant la lecture et/ou après la lecture du fichier, écrire le code nécessaire pour obtenir les résultats (nombre total de notes, note moyenne, notes maxi et mini, nombre de notes)\n",
    "\n",
    "# Faire les affichages des résultats\n",
    "\n",
    "print(\"Le nombre de notes dans le fichier est de : \" + str(nb_notes-1) + \" notes\")\n",
    "print(\"La sommes des notes est : \" + str(somme_notes))\n",
    "print(\"La moyenne des notes est de : \" + str(somme_notes/(nb_notes-1)))\n",
    "\n"
   ]
  }
 ],
 "metadata": {
  "colab": {
   "provenance": []
  },
  "kernelspec": {
   "display_name": "Python 3",
   "language": "python",
   "name": "python3"
  },
  "language_info": {
   "codemirror_mode": {
    "name": "ipython",
    "version": 3
   },
   "file_extension": ".py",
   "mimetype": "text/x-python",
   "name": "python",
   "nbconvert_exporter": "python",
   "pygments_lexer": "ipython3",
   "version": "3.12.3"
  }
 },
 "nbformat": 4,
 "nbformat_minor": 0
}
