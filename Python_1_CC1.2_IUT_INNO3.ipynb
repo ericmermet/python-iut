{
 "cells": [
  {
   "cell_type": "markdown",
   "metadata": {},
   "source": [
    "# Contrôles des connaissances n° 1\n",
    "\n",
    "Il s'agira de lire le fichier abonnes.csv dans le répertoire csv. Celui-ci contient la structure suivante : Nom,Prénom,Annee_inscription\n",
    "\n",
    "Le fichier est à récupérer ici : https://github.com/ericmermet/python-iut/tree/main/csv\n",
    "et à placer dans les fichiers accessibles dans Google Colab.\n",
    "\n",
    "Ecrire le code nécessaires pour afficher les résultats suivants :\n",
    "- Le nombre d'abonnés\n",
    "- La durée moyenne d'un abonnement\n",
    "- La durée minimale d'abonnement et la durée maximale d'abonnement\n",
    "- Le nombre d'abonnés inscrits depuis plus d'un an\n",
    "\n",
    "- Bonus : les noms et prénoms des abonnés qui sont abonnés depuis le plus longtemps et depuis le moins longtemps.\n",
    "\n",
    "\n",
    "Pour finir : Fichier/Télécharger (au format) ipynb, à envoyer à eric.mermet@tse-fr.eu\n",
    "\n",
    "Ajouter un bloc de texte ci-dessous qui contiendra vos noms, prénoms."
   ]
  },
  {
   "cell_type": "code",
   "execution_count": null,
   "metadata": {},
   "outputs": [],
   "source": [
    "#######################\n",
    "## Squelette de code ##\n",
    "#######################\n",
    "\n",
    "# Faire les imports nécessaires\n",
    "\n",
    "\n",
    "# Définir les variables nécessaires\n",
    "\n",
    "# Ecrire le programme principal\n",
    "\n",
    "    # Lire le fichier csv\n",
    "\n",
    "    # Pendant la lecture et/ou après la lecture du fichier, écrire le code nécessaire pour obtenir les résultats (nombre total de notes, note moyenne, notes maxi et mini, nombre de notes)\n",
    "\n",
    "# Faire les affichages des résultats"
   ]
  }
 ],
 "metadata": {
  "kernelspec": {
   "display_name": "Python 3",
   "language": "python",
   "name": "python3"
  },
  "language_info": {
   "name": "python",
   "version": "3.12.3"
  }
 },
 "nbformat": 4,
 "nbformat_minor": 2
}
