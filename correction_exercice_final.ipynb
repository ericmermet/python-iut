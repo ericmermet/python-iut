{
 "cells": [
  {
   "cell_type": "code",
   "execution_count": 6,
   "metadata": {},
   "outputs": [
    {
     "name": "stdout",
     "output_type": "stream",
     "text": [
      "Bienvenue dans l'application météo !\n",
      "Coordonnées pour Toulouse, France :\n",
      "Latitude : 43.6044622, Longitude : 1.4442469\n",
      "\n",
      "Météo actuelle :\n",
      "Température : 20.4°C\n",
      "Vitesse du vent : 12.0 km/h\n",
      "Code météo : 61\n",
      "Au revoir !\n"
     ]
    }
   ],
   "source": [
    "import requests\n",
    "\n",
    "import requests\n",
    "\n",
    "def obtenir_coordonnees(ville, pays):\n",
    "    url = f\"https://nominatim.openstreetmap.org/search?q={ville},{pays}&format=json&limit=1\"\n",
    "    \n",
    "    # Ajouter un en-tête 'User-Agent' pour se conformer aux règles de Nominatim\n",
    "    headers = {\n",
    "        'User-Agent': 'GeoCoderApp/1.0 (contact: your_email@example.com)'\n",
    "    }\n",
    "    \n",
    "    try:\n",
    "        response = requests.get(url, headers=headers)\n",
    "        response.raise_for_status()\n",
    "        data = response.json()\n",
    "        \n",
    "        if data:\n",
    "            latitude = data[0][\"lat\"]\n",
    "            longitude = data[0][\"lon\"]\n",
    "            print(f\"Coordonnées pour {ville}, {pays} :\")\n",
    "            print(f\"Latitude : {latitude}, Longitude : {longitude}\")\n",
    "            return float(latitude), float(longitude)\n",
    "        else:\n",
    "            print(\"Lieu non trouvé.\")\n",
    "            return None, None\n",
    "    except requests.exceptions.RequestException as e:\n",
    "        print(f\"Erreur lors de la requête : {e}\")\n",
    "        return None, None\n",
    "\n",
    "\n",
    "def obtenir_meteo_open_meteo(latitude, longitude):\n",
    "    url = f\"https://api.open-meteo.com/v1/forecast?latitude={latitude}&longitude={longitude}&current_weather=true\"\n",
    "    \n",
    "    try:\n",
    "        response = requests.get(url)\n",
    "        response.raise_for_status()\n",
    "        data = response.json()\n",
    "        \n",
    "        meteo_actuelle = data.get(\"current_weather\", {})\n",
    "        temperature = meteo_actuelle.get(\"temperature\", \"N/A\")\n",
    "        vent_vitesse = meteo_actuelle.get(\"windspeed\", \"N/A\")\n",
    "        condition = meteo_actuelle.get(\"weathercode\", \"N/A\")\n",
    "        \n",
    "        print(f\"\\nMétéo actuelle :\")\n",
    "        print(f\"Température : {temperature}°C\")\n",
    "        print(f\"Vitesse du vent : {vent_vitesse} km/h\")\n",
    "        print(f\"Code météo : {condition}\")\n",
    "        \n",
    "        return {\n",
    "            \"temperature\": temperature,\n",
    "            \"vent_vitesse\": vent_vitesse,\n",
    "            \"condition\": condition\n",
    "        }\n",
    "    except requests.exceptions.RequestException as e:\n",
    "        print(f\"Erreur lors de la requête : {e}\")\n",
    "        return None\n",
    "\n",
    "def programme_meteo():\n",
    "    print(\"Bienvenue dans l'application météo !\")\n",
    "    \n",
    "    while True:\n",
    "        # Demander à l'utilisateur d'entrer une ville et un pays\n",
    "        ville = input(\"\\nEntrez le nom de la ville : \")\n",
    "        pays = input(\"Entrez le nom du pays : \")\n",
    "\n",
    "        # Étape 1 : Obtenir les coordonnées géographiques (latitude et longitude)\n",
    "        latitude, longitude = obtenir_coordonnees(ville, pays)\n",
    "        \n",
    "        if latitude is not None and longitude is not None:\n",
    "            # Étape 2 : Obtenir la météo avec Open-Meteo\n",
    "            obtenir_meteo_open_meteo(latitude, longitude)\n",
    "        \n",
    "        # Demander si l'utilisateur veut faire une autre recherche\n",
    "        choix = input(\"\\nVoulez-vous rechercher une autre ville ? (oui/non) : \").lower()\n",
    "        if choix != \"oui\":\n",
    "            print(\"Au revoir !\")\n",
    "            break\n",
    "\n",
    "# Exécuter le programme\n",
    "programme_meteo()"
   ]
  },
  {
   "cell_type": "code",
   "execution_count": 7,
   "metadata": {},
   "outputs": [
    {
     "name": "stdout",
     "output_type": "stream",
     "text": [
      "Coordonnées pour paris, france :\n",
      "Latitude : 48.8534951, Longitude : 2.3483915\n"
     ]
    },
    {
     "data": {
      "text/plain": [
       "(48.8534951, 2.3483915)"
      ]
     },
     "execution_count": 7,
     "metadata": {},
     "output_type": "execute_result"
    }
   ],
   "source": [
    "obtenir_coordonnees('paris', 'france')"
   ]
  }
 ],
 "metadata": {
  "kernelspec": {
   "display_name": "Python 3",
   "language": "python",
   "name": "python3"
  },
  "language_info": {
   "codemirror_mode": {
    "name": "ipython",
    "version": 3
   },
   "file_extension": ".py",
   "mimetype": "text/x-python",
   "name": "python",
   "nbconvert_exporter": "python",
   "pygments_lexer": "ipython3",
   "version": "3.12.3"
  }
 },
 "nbformat": 4,
 "nbformat_minor": 2
}
