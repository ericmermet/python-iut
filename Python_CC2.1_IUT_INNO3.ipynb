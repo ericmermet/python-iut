{
 "cells": [
  {
   "cell_type": "markdown",
   "metadata": {},
   "source": [
    "# Contrôles des connaissances n° 2\n",
    "\n",
    "Il s'agira de lire le prendre connaissance du code ci-dessous, de savoir l'exécuter, d'en comprendre le fonctionnement et de répondre aux questions posées dans le bloc de texte qui suit le code.\n",
    "\n",
    "L'évaluation porte sur la qualité de description du code dans le bloc de code en écrivant des commentaires en réponse aux questions, ainsi que sur les réponses aux questions posées après le bloc de code.\n",
    "Un bonus sera donné pour un enrichissement du code.\n",
    "\n",
    "\n",
    "Pour finir : Fichier/Télécharger (au format) ipynb, à envoyer à eric.mermet@tse-fr.eu\n",
    "\n",
    "Ajouter un bloc de texte ci-dessous qui contiendra vos noms, prénoms."
   ]
  },
  {
   "cell_type": "code",
   "execution_count": 2,
   "metadata": {},
   "outputs": [
    {
     "name": "stdout",
     "output_type": "stream",
     "text": [
      "\n",
      "--- Menu du Restaurant ---\n",
      "Pizza: 10.00€\n",
      "Pâtes: 8.50€\n",
      "Salade: 7.00€\n",
      "Sushi: 12.00€\n",
      "Aucune commande passée.\n",
      "Merci pour votre visite. À bientôt !\n"
     ]
    }
   ],
   "source": [
    "# Que déclare t-on ici ?\n",
    "menu = {\n",
    "    \"Pizza\": 10.0,\n",
    "    \"Pâtes\": 8.5,\n",
    "    \"Salade\": 7.0,\n",
    "    \"Sushi\": 12.0\n",
    "}\n",
    "\n",
    "# Que fait cette fonction ? Décrire son utilite et son fonctionnement.\n",
    "def afficher_menu():\n",
    "    print(\"\\n--- Menu du Restaurant ---\")\n",
    "    for plat, prix in menu.items():\n",
    "        print(f\"{plat}: {prix:.2f}€\")\n",
    "\n",
    "# Que fait cette fonction ? Décrire son utilite et son fonctionnement.\n",
    "def prendre_commande():\n",
    "    commandes = []  # Que déclare t-on ici ?\n",
    "    while True:\n",
    "        plat = input(\"Entrez le nom d'un plat (ou 'fin' pour terminer) : \").capitalize()\n",
    "        # Décrire ici le fonctionnement des tests suivants :\n",
    "        if plat == \"Fin\":\n",
    "            break\n",
    "        elif plat in menu:\n",
    "            commandes.append((plat, menu[plat]))  # Que se passe t-il ici ? Quelle forme cela prend ?\n",
    "            print(f\"{plat} ajouté à la commande.\")\n",
    "        else:\n",
    "            print(\"Ce plat n'est pas au menu. Veuillez réessayer.\")\n",
    "    return commandes\n",
    "\n",
    "# Que fait cette fonction ? Décrire son utilite et son fonctionnement.\n",
    "def calculer_facture(commandes):\n",
    "    total = sum(prix for _, prix in commandes)  # Expliquer cette ligne\n",
    "    print(\"\\n--- Facture ---\")\n",
    "    for plat, prix in commandes:                # Expliquer cette structure de code\n",
    "        print(f\"{plat}: {prix:.2f}€\")\n",
    "    print(f\"Total: {total:.2f}€\")\n",
    "    return total\n",
    "\n",
    "# Programme principal\n",
    "# Que se passe t-il dans ce bloc de code ?\n",
    "while True:\n",
    "    afficher_menu()  # Que se passe t-il ici ?\n",
    "    commandes = prendre_commande()  # Que se passe t-il ici ?\n",
    "    if commandes:\n",
    "        calculer_facture(commandes)  # Que se passe t-il ici ?\n",
    "    else:\n",
    "        print(\"Aucune commande passée.\")\n",
    "\n",
    "    # Que se passe t-il dans ce bloc de code ?\n",
    "    continuer = input(\"\\nVoulez-vous passer une nouvelle commande ? (oui/non) : \").lower()\n",
    "    if continuer != \"oui\":\n",
    "        print(\"Merci pour votre visite. À bientôt !\")\n",
    "        break\n"
   ]
  },
  {
   "cell_type": "markdown",
   "metadata": {},
   "source": [
    "# 1. Questions générales\n",
    "\n",
    "Quel type de données est utilisé pour stocker le menu du restaurant ? Expliquez pourquoi ce choix est pertinent dans ce contexte.\n",
    "\n",
    "Décrivez la structure de la variable commandes. Pourquoi une liste de tuples a-t-elle été choisie pour représenter les commandes ?\n",
    "\n",
    "Expliquez le rôle de la boucle principale (while True) dans le programme. Que permet-elle de réaliser ?\n",
    "\n",
    "# 2. Les fonctions\n",
    "\n",
    "## Sur la fonction afficher_menu() :\n",
    "Quel est l'objectif de cette fonction ?\n",
    "\n",
    "Quels types d'arguments et de valeurs de retour utilise-t-elle ?\n",
    "\n",
    "## Sur la fonction prendre_commande()\n",
    "Que se passe-t-il si l'utilisateur entre un plat qui n'est pas dans le menu ? Décrivez comment le programme gère cette situation.\n",
    "\n",
    "Pourquoi utilise-t-on capitalize() sur l'entrée utilisateur pour le nom du plat ? Quels problèmes cela permet-il d'éviter ?\n",
    "\n",
    "# 3. Ajouts de fonctionnalité\n",
    "\n",
    "a. Enrichir le menu avec des boissons\n",
    "\n",
    "b. Proposer de diviser la facture en fonction du nombre de personnes\n",
    "Il faudra donc demander si l'on souhaite diviser la facture (premier paramètre) et par combien de personnes (second paramètre)."
   ]
  }
 ],
 "metadata": {
  "kernelspec": {
   "display_name": "Python 3",
   "language": "python",
   "name": "python3"
  },
  "language_info": {
   "codemirror_mode": {
    "name": "ipython",
    "version": 3
   },
   "file_extension": ".py",
   "mimetype": "text/x-python",
   "name": "python",
   "nbconvert_exporter": "python",
   "pygments_lexer": "ipython3",
   "version": "3.12.3"
  }
 },
 "nbformat": 4,
 "nbformat_minor": 2
}
